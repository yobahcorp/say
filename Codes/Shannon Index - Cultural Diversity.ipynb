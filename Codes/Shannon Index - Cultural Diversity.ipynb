{
 "cells": [
  {
   "cell_type": "code",
   "execution_count": 24,
   "id": "f6b86b23",
   "metadata": {},
   "outputs": [],
   "source": [
    "# importing libraries\n",
    "import pandas as pd\n",
    "from sklearn.decomposition import PCA\n",
    "import seaborn as sns\n",
    "import matplotlib.pyplot as plt\n",
    "from sklearn.cluster import KMeans\n",
    "from sklearn.preprocessing import StandardScaler"
   ]
  },
  {
   "cell_type": "code",
   "execution_count": 25,
   "id": "a07e48b9",
   "metadata": {},
   "outputs": [],
   "source": [
    "# loading data\n",
    "migration_dataset = pd.read_csv(\"./data/SI/migration_si.csv\")\n",
    "mtd_dataset = pd.read_csv(\"./data/SI/mother_tongue_diversity_si.csv\")\n",
    "occupation_dataset = pd.read_csv(\"./data/SI/occupation_si.csv\")\n",
    "religion_dataset = pd.read_csv(\"./data/SI/religion_si.csv\")"
   ]
  },
  {
   "cell_type": "code",
   "execution_count": 6,
   "id": "38f8533a",
   "metadata": {},
   "outputs": [],
   "source": [
    "# preserving only state and SDI\n",
    "migration_dataset = migration_dataset[['state', 'migration_p_ln_p']]\n",
    "religion_dataset = religion_dataset[['state', 'religion_p_ln_p']]\n",
    "occupation_dataset = occupation_dataset[['state', 'occupation_p_ln_p']]\n",
    "mtd_dataset = mtd_dataset[['state', 'mtd_p_ln_p']]"
   ]
  },
  {
   "cell_type": "code",
   "execution_count": 7,
   "id": "8c5b7186",
   "metadata": {},
   "outputs": [
    {
     "data": {
      "text/plain": [
       "(35, 2)"
      ]
     },
     "execution_count": 7,
     "metadata": {},
     "output_type": "execute_result"
    }
   ],
   "source": [
    "# checking the shape of each dataset\n",
    "migration_dataset.shape"
   ]
  },
  {
   "cell_type": "code",
   "execution_count": 8,
   "id": "92fe4a16",
   "metadata": {},
   "outputs": [
    {
     "data": {
      "text/plain": [
       "(35, 2)"
      ]
     },
     "execution_count": 8,
     "metadata": {},
     "output_type": "execute_result"
    }
   ],
   "source": [
    "mtd_dataset.shape"
   ]
  },
  {
   "cell_type": "code",
   "execution_count": 9,
   "id": "0da610bf",
   "metadata": {},
   "outputs": [
    {
     "data": {
      "text/plain": [
       "(35, 2)"
      ]
     },
     "execution_count": 9,
     "metadata": {},
     "output_type": "execute_result"
    }
   ],
   "source": [
    "occupation_dataset.shape"
   ]
  },
  {
   "cell_type": "code",
   "execution_count": 10,
   "id": "14b713c4",
   "metadata": {},
   "outputs": [
    {
     "data": {
      "text/plain": [
       "(35, 2)"
      ]
     },
     "execution_count": 10,
     "metadata": {},
     "output_type": "execute_result"
    }
   ],
   "source": [
    "religion_dataset.shape"
   ]
  },
  {
   "cell_type": "code",
   "execution_count": 11,
   "id": "ae629a4c",
   "metadata": {},
   "outputs": [
    {
     "data": {
      "text/html": [
       "<div>\n",
       "<style scoped>\n",
       "    .dataframe tbody tr th:only-of-type {\n",
       "        vertical-align: middle;\n",
       "    }\n",
       "\n",
       "    .dataframe tbody tr th {\n",
       "        vertical-align: top;\n",
       "    }\n",
       "\n",
       "    .dataframe thead th {\n",
       "        text-align: right;\n",
       "    }\n",
       "</style>\n",
       "<table border=\"1\" class=\"dataframe\">\n",
       "  <thead>\n",
       "    <tr style=\"text-align: right;\">\n",
       "      <th></th>\n",
       "      <th>state</th>\n",
       "      <th>occupation_p_ln_p</th>\n",
       "      <th>religion_p_ln_p</th>\n",
       "      <th>mtd_p_ln_p</th>\n",
       "      <th>migration_p_ln_p</th>\n",
       "    </tr>\n",
       "  </thead>\n",
       "  <tbody>\n",
       "    <tr>\n",
       "      <th>0</th>\n",
       "      <td>ANDAMAN &amp; NICOBAR ISLANDS</td>\n",
       "      <td>3.184329</td>\n",
       "      <td>0.817929</td>\n",
       "      <td>1.981272</td>\n",
       "      <td>2.238738</td>\n",
       "    </tr>\n",
       "    <tr>\n",
       "      <th>1</th>\n",
       "      <td>ANDHRA PRADESH</td>\n",
       "      <td>3.151894</td>\n",
       "      <td>0.399206</td>\n",
       "      <td>0.700206</td>\n",
       "      <td>2.308698</td>\n",
       "    </tr>\n",
       "    <tr>\n",
       "      <th>2</th>\n",
       "      <td>ARUNACHAL PRADESH</td>\n",
       "      <td>3.024820</td>\n",
       "      <td>1.146343</td>\n",
       "      <td>2.387618</td>\n",
       "      <td>1.639825</td>\n",
       "    </tr>\n",
       "    <tr>\n",
       "      <th>3</th>\n",
       "      <td>ASSAM</td>\n",
       "      <td>2.958778</td>\n",
       "      <td>0.810371</td>\n",
       "      <td>1.570991</td>\n",
       "      <td>2.507351</td>\n",
       "    </tr>\n",
       "    <tr>\n",
       "      <th>4</th>\n",
       "      <td>BIHAR</td>\n",
       "      <td>2.807725</td>\n",
       "      <td>0.469847</td>\n",
       "      <td>0.747326</td>\n",
       "      <td>1.901895</td>\n",
       "    </tr>\n",
       "  </tbody>\n",
       "</table>\n",
       "</div>"
      ],
      "text/plain": [
       "                       state  occupation_p_ln_p  religion_p_ln_p  mtd_p_ln_p  \\\n",
       "0  ANDAMAN & NICOBAR ISLANDS           3.184329         0.817929    1.981272   \n",
       "1             ANDHRA PRADESH           3.151894         0.399206    0.700206   \n",
       "2          ARUNACHAL PRADESH           3.024820         1.146343    2.387618   \n",
       "3                      ASSAM           2.958778         0.810371    1.570991   \n",
       "4                      BIHAR           2.807725         0.469847    0.747326   \n",
       "\n",
       "   migration_p_ln_p  \n",
       "0          2.238738  \n",
       "1          2.308698  \n",
       "2          1.639825  \n",
       "3          2.507351  \n",
       "4          1.901895  "
      ]
     },
     "execution_count": 11,
     "metadata": {},
     "output_type": "execute_result"
    }
   ],
   "source": [
    "# concatenating all data frames\n",
    "si_table = pd.DataFrame()\n",
    "si_table['state'] = occupation_dataset['state']\n",
    "si_table['occupation_p_ln_p'] = occupation_dataset['occupation_p_ln_p']\n",
    "si_table['religion_p_ln_p'] = religion_dataset['religion_p_ln_p']\n",
    "si_table['mtd_p_ln_p'] = mtd_dataset['mtd_p_ln_p']\n",
    "si_table['migration_p_ln_p'] = migration_dataset['migration_p_ln_p']\n",
    "si_table.head()"
   ]
  },
  {
   "cell_type": "code",
   "execution_count": 12,
   "id": "e57e696b",
   "metadata": {},
   "outputs": [
    {
     "data": {
      "text/html": [
       "<div>\n",
       "<style scoped>\n",
       "    .dataframe tbody tr th:only-of-type {\n",
       "        vertical-align: middle;\n",
       "    }\n",
       "\n",
       "    .dataframe tbody tr th {\n",
       "        vertical-align: top;\n",
       "    }\n",
       "\n",
       "    .dataframe thead th {\n",
       "        text-align: right;\n",
       "    }\n",
       "</style>\n",
       "<table border=\"1\" class=\"dataframe\">\n",
       "  <thead>\n",
       "    <tr style=\"text-align: right;\">\n",
       "      <th></th>\n",
       "      <th>state</th>\n",
       "      <th>occupation_p_ln_p</th>\n",
       "      <th>religion_p_ln_p</th>\n",
       "      <th>mtd_p_ln_p</th>\n",
       "      <th>migration_p_ln_p</th>\n",
       "      <th>cultural_diversity</th>\n",
       "    </tr>\n",
       "  </thead>\n",
       "  <tbody>\n",
       "    <tr>\n",
       "      <th>0</th>\n",
       "      <td>ANDAMAN &amp; NICOBAR ISLANDS</td>\n",
       "      <td>3.184329</td>\n",
       "      <td>0.817929</td>\n",
       "      <td>1.981272</td>\n",
       "      <td>2.238738</td>\n",
       "      <td>2.055567</td>\n",
       "    </tr>\n",
       "    <tr>\n",
       "      <th>1</th>\n",
       "      <td>ANDHRA PRADESH</td>\n",
       "      <td>3.151894</td>\n",
       "      <td>0.399206</td>\n",
       "      <td>0.700206</td>\n",
       "      <td>2.308698</td>\n",
       "      <td>1.640001</td>\n",
       "    </tr>\n",
       "    <tr>\n",
       "      <th>2</th>\n",
       "      <td>ARUNACHAL PRADESH</td>\n",
       "      <td>3.024820</td>\n",
       "      <td>1.146343</td>\n",
       "      <td>2.387618</td>\n",
       "      <td>1.639825</td>\n",
       "      <td>2.049651</td>\n",
       "    </tr>\n",
       "    <tr>\n",
       "      <th>3</th>\n",
       "      <td>ASSAM</td>\n",
       "      <td>2.958778</td>\n",
       "      <td>0.810371</td>\n",
       "      <td>1.570991</td>\n",
       "      <td>2.507351</td>\n",
       "      <td>1.961873</td>\n",
       "    </tr>\n",
       "    <tr>\n",
       "      <th>4</th>\n",
       "      <td>BIHAR</td>\n",
       "      <td>2.807725</td>\n",
       "      <td>0.469847</td>\n",
       "      <td>0.747326</td>\n",
       "      <td>1.901895</td>\n",
       "      <td>1.481698</td>\n",
       "    </tr>\n",
       "  </tbody>\n",
       "</table>\n",
       "</div>"
      ],
      "text/plain": [
       "                       state  occupation_p_ln_p  religion_p_ln_p  mtd_p_ln_p  \\\n",
       "0  ANDAMAN & NICOBAR ISLANDS           3.184329         0.817929    1.981272   \n",
       "1             ANDHRA PRADESH           3.151894         0.399206    0.700206   \n",
       "2          ARUNACHAL PRADESH           3.024820         1.146343    2.387618   \n",
       "3                      ASSAM           2.958778         0.810371    1.570991   \n",
       "4                      BIHAR           2.807725         0.469847    0.747326   \n",
       "\n",
       "   migration_p_ln_p  cultural_diversity  \n",
       "0          2.238738            2.055567  \n",
       "1          2.308698            1.640001  \n",
       "2          1.639825            2.049651  \n",
       "3          2.507351            1.961873  \n",
       "4          1.901895            1.481698  "
      ]
     },
     "execution_count": 12,
     "metadata": {},
     "output_type": "execute_result"
    }
   ],
   "source": [
    "# calculation of cultural diversity = average of other diversities\n",
    "si_table['cultural_diversity'] = si_table[['occupation_p_ln_p', 'migration_p_ln_p', 'mtd_p_ln_p', 'religion_p_ln_p']].mean(axis=1)\n",
    "si_table.head()"
   ]
  },
  {
   "cell_type": "code",
   "execution_count": 13,
   "id": "99e7a022",
   "metadata": {},
   "outputs": [],
   "source": [
    "si_table.to_csv('cultural_diversity_si.csv', index=False)"
   ]
  },
  {
   "cell_type": "markdown",
   "id": "b1b65fde",
   "metadata": {},
   "source": [
    "## Clustering states based on diversity indices"
   ]
  },
  {
   "cell_type": "code",
   "execution_count": 19,
   "id": "bdd024dc",
   "metadata": {},
   "outputs": [],
   "source": [
    "# PCA object\n",
    "pca = PCA(n_components=2)"
   ]
  },
  {
   "cell_type": "code",
   "execution_count": 20,
   "id": "1bd7479e",
   "metadata": {},
   "outputs": [],
   "source": [
    "# # Transformation\n",
    "# components = pca.fit_transform(\n",
    "#     StandardScaler().fit_transform(\n",
    "#         si_table[['occupation_p_ln_p', 'migration_p_ln_p', 'mtd_p_ln_p', 'religion_p_ln_p']]\n",
    "#     )\n",
    "# )\n",
    "# data = pd.DataFrame(components, columns=['x', 'y'])\n",
    "\n",
    "# Transformation\n",
    "components = pca.fit_transform(\n",
    "    si_table[['occupation_p_ln_p', 'migration_p_ln_p', 'mtd_p_ln_p', 'religion_p_ln_p']]\n",
    ")\n",
    "data = pd.DataFrame(components, columns=['x', 'y'])"
   ]
  },
  {
   "cell_type": "code",
   "execution_count": 21,
   "id": "8cf2992b",
   "metadata": {},
   "outputs": [
    {
     "data": {
      "text/plain": [
       "<AxesSubplot:xlabel='x', ylabel='y'>"
      ]
     },
     "execution_count": 21,
     "metadata": {},
     "output_type": "execute_result"
    },
    {
     "data": {
      "image/png": "[encoded data removed]",
      "text/plain": [
       "<Figure size 1152x576 with 1 Axes>"
      ]
     },
     "metadata": {
      "needs_background": "light"
     },
     "output_type": "display_data"
    }
   ],
   "source": [
    "# plotting components\n",
    "plt.figure(figsize=(16, 8))\n",
    "sns.scatterplot(data=data, x='x', y='y')"
   ]
  },
  {
   "cell_type": "code",
   "execution_count": 26,
   "id": "6f11d92e",
   "metadata": {},
   "outputs": [
    {
     "data": {
      "text/plain": [
       "[<matplotlib.lines.Line2D at 0x17209c280>]"
      ]
     },
     "execution_count": 26,
     "metadata": {},
     "output_type": "execute_result"
    },
    {
     "data": {
      "image/png": "[encoded data removed]",
      "text/plain": [
       "<Figure size 1152x576 with 1 Axes>"
      ]
     },
     "metadata": {
      "needs_background": "light"
     },
     "output_type": "display_data"
    }
   ],
   "source": [
    "# Finding the optimal cluster\n",
    "initias = []\n",
    "for n in range(1, 11):\n",
    "    c = KMeans(n)\n",
    "    c.fit_transform(components)\n",
    "    initias.append(c.inertia_)\n",
    "    \n",
    "plt.figure(figsize=(16, 8))\n",
    "plt.plot(initias)"
   ]
  },
  {
   "cell_type": "code",
   "execution_count": 27,
   "id": "b188ecbc",
   "metadata": {},
   "outputs": [],
   "source": [
    "# Clustering based on the above result\n",
    "cluster = KMeans(3)\n",
    "output = cluster.fit_transform(components)\n",
    "data['class'] = cluster.labels_"
   ]
  },
  {
   "cell_type": "code",
   "execution_count": 28,
   "id": "6c9d9d6c",
   "metadata": {},
   "outputs": [
    {
     "data": {
      "text/plain": [
       "Text(0.5, 1.0, 'Clusterig of states based on their index')"
      ]
     },
     "execution_count": 28,
     "metadata": {},
     "output_type": "execute_result"
    },
    {
     "data": {
      "image/png": "[encoded data removed]",
      "text/plain": [
       "<Figure size 1152x576 with 1 Axes>"
      ]
     },
     "metadata": {
      "needs_background": "light"
     },
     "output_type": "display_data"
    }
   ],
   "source": [
    "# Visualizing clusters\n",
    "plt.figure(figsize=(16, 8))\n",
    "sns.scatterplot(data=data, x='x', y='y', hue='class', palette=['red', 'green', 'black'])\n",
    "plt.title(\"Clusterig of states based on their index\")"
   ]
  },
  {
   "cell_type": "code",
   "execution_count": 29,
   "id": "930c9be9",
   "metadata": {},
   "outputs": [
    {
     "data": {
      "text/html": [
       "<div>\n",
       "<style scoped>\n",
       "    .dataframe tbody tr th:only-of-type {\n",
       "        vertical-align: middle;\n",
       "    }\n",
       "\n",
       "    .dataframe tbody tr th {\n",
       "        vertical-align: top;\n",
       "    }\n",
       "\n",
       "    .dataframe thead th {\n",
       "        text-align: right;\n",
       "    }\n",
       "</style>\n",
       "<table border=\"1\" class=\"dataframe\">\n",
       "  <thead>\n",
       "    <tr style=\"text-align: right;\">\n",
       "      <th></th>\n",
       "      <th>state</th>\n",
       "      <th>occupation_p_ln_p</th>\n",
       "      <th>religion_p_ln_p</th>\n",
       "      <th>mtd_p_ln_p</th>\n",
       "      <th>migration_p_ln_p</th>\n",
       "      <th>cultural_diversity</th>\n",
       "      <th>class</th>\n",
       "    </tr>\n",
       "  </thead>\n",
       "  <tbody>\n",
       "    <tr>\n",
       "      <th>0</th>\n",
       "      <td>ANDAMAN &amp; NICOBAR ISLANDS</td>\n",
       "      <td>3.184329</td>\n",
       "      <td>0.817929</td>\n",
       "      <td>1.981272</td>\n",
       "      <td>2.238738</td>\n",
       "      <td>2.055567</td>\n",
       "      <td>1</td>\n",
       "    </tr>\n",
       "    <tr>\n",
       "      <th>1</th>\n",
       "      <td>ANDHRA PRADESH</td>\n",
       "      <td>3.151894</td>\n",
       "      <td>0.399206</td>\n",
       "      <td>0.700206</td>\n",
       "      <td>2.308698</td>\n",
       "      <td>1.640001</td>\n",
       "      <td>0</td>\n",
       "    </tr>\n",
       "    <tr>\n",
       "      <th>2</th>\n",
       "      <td>ARUNACHAL PRADESH</td>\n",
       "      <td>3.024820</td>\n",
       "      <td>1.146343</td>\n",
       "      <td>2.387618</td>\n",
       "      <td>1.639825</td>\n",
       "      <td>2.049651</td>\n",
       "      <td>1</td>\n",
       "    </tr>\n",
       "    <tr>\n",
       "      <th>3</th>\n",
       "      <td>ASSAM</td>\n",
       "      <td>2.958778</td>\n",
       "      <td>0.810371</td>\n",
       "      <td>1.570991</td>\n",
       "      <td>2.507351</td>\n",
       "      <td>1.961873</td>\n",
       "      <td>1</td>\n",
       "    </tr>\n",
       "    <tr>\n",
       "      <th>4</th>\n",
       "      <td>BIHAR</td>\n",
       "      <td>2.807725</td>\n",
       "      <td>0.469847</td>\n",
       "      <td>0.747326</td>\n",
       "      <td>1.901895</td>\n",
       "      <td>1.481698</td>\n",
       "      <td>0</td>\n",
       "    </tr>\n",
       "  </tbody>\n",
       "</table>\n",
       "</div>"
      ],
      "text/plain": [
       "                       state  occupation_p_ln_p  religion_p_ln_p  mtd_p_ln_p  \\\n",
       "0  ANDAMAN & NICOBAR ISLANDS           3.184329         0.817929    1.981272   \n",
       "1             ANDHRA PRADESH           3.151894         0.399206    0.700206   \n",
       "2          ARUNACHAL PRADESH           3.024820         1.146343    2.387618   \n",
       "3                      ASSAM           2.958778         0.810371    1.570991   \n",
       "4                      BIHAR           2.807725         0.469847    0.747326   \n",
       "\n",
       "   migration_p_ln_p  cultural_diversity  class  \n",
       "0          2.238738            2.055567      1  \n",
       "1          2.308698            1.640001      0  \n",
       "2          1.639825            2.049651      1  \n",
       "3          2.507351            1.961873      1  \n",
       "4          1.901895            1.481698      0  "
      ]
     },
     "execution_count": 29,
     "metadata": {},
     "output_type": "execute_result"
    }
   ],
   "source": [
    "# Visualizing classes on a bar chart\n",
    "temp_data = si_table.copy()\n",
    "temp_data['class'] = data['class']\n",
    "temp_data.head()"
   ]
  },
  {
   "cell_type": "code",
   "execution_count": 30,
   "id": "863ab568",
   "metadata": {},
   "outputs": [
    {
     "data": {
      "text/plain": [
       "<AxesSubplot:xlabel='state', ylabel='cultural_diversity'>"
      ]
     },
     "execution_count": 30,
     "metadata": {},
     "output_type": "execute_result"
    },
    {
     "data": {
      "image/png": "[encoded data removed]",
      "text/plain": [
       "<Figure size 1152x576 with 1 Axes>"
      ]
     },
     "metadata": {
      "needs_background": "light"
     },
     "output_type": "display_data"
    }
   ],
   "source": [
    "plt.figure(figsize=(16, 8))\n",
    "plt.xticks(rotation=90)\n",
    "sns.barplot(data=temp_data, x='state', y='cultural_diversity', hue='class')"
   ]
  },
  {
   "cell_type": "code",
   "execution_count": null,
   "id": "e6911e42",
   "metadata": {},
   "outputs": [],
   "source": []
  },
  {
   "cell_type": "code",
   "execution_count": null,
   "id": "518256d5",
   "metadata": {},
   "outputs": [],
   "source": []
  },
  {
   "cell_type": "code",
   "execution_count": null,
   "id": "06d40c30",
   "metadata": {},
   "outputs": [],
   "source": []
  },
  {
   "cell_type": "markdown",
   "id": "7b4a499f",
   "metadata": {},
   "source": [
    "# Future work - Cultural diversity as a PCA of other diversity indices (dropped for now)"
   ]
  },
  {
   "cell_type": "code",
   "execution_count": null,
   "id": "b16fc3b0",
   "metadata": {},
   "outputs": [],
   "source": []
  },
  {
   "cell_type": "code",
   "execution_count": null,
   "id": "3e368c5c",
   "metadata": {},
   "outputs": [],
   "source": []
  },
  {
   "cell_type": "code",
   "execution_count": null,
   "id": "e3a36273",
   "metadata": {},
   "outputs": [],
   "source": []
  },
  {
   "cell_type": "code",
   "execution_count": null,
   "id": "25fe3c68",
   "metadata": {},
   "outputs": [],
   "source": []
  },
  {
   "cell_type": "code",
   "execution_count": null,
   "id": "065e5977",
   "metadata": {},
   "outputs": [],
   "source": []
  },
  {
   "cell_type": "code",
   "execution_count": null,
   "id": "872ae87c",
   "metadata": {},
   "outputs": [],
   "source": []
  },
  {
   "cell_type": "code",
   "execution_count": null,
   "id": "e697e498",
   "metadata": {},
   "outputs": [],
   "source": []
  },
  {
   "cell_type": "code",
   "execution_count": null,
   "id": "e1dd2a14",
   "metadata": {},
   "outputs": [],
   "source": []
  },
  {
   "cell_type": "code",
   "execution_count": null,
   "id": "dce3bde1",
   "metadata": {},
   "outputs": [],
   "source": []
  }
 ],
 "metadata": {
  "kernelspec": {
   "display_name": "Python 3 (ipykernel)",
   "language": "python",
   "name": "python3"
  },
  "language_info": {
   "codemirror_mode": {
    "name": "ipython",
    "version": 3
   },
   "file_extension": ".py",
   "mimetype": "text/x-python",
   "name": "python",
   "nbconvert_exporter": "python",
   "pygments_lexer": "ipython3",
   "version": "3.9.15"
  }
 },
 "nbformat": 4,
 "nbformat_minor": 5
}
