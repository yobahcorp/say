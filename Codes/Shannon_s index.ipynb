{
 "cells": [
  {
   "cell_type": "code",
   "execution_count": 1,
   "id": "8fdfb59f",
   "metadata": {},
   "outputs": [],
   "source": [
    "# importing libraries\n",
    "import pandas as pd\n",
    "import math\n",
    "import matplotlib.pyplot as plt"
   ]
  },
  {
   "cell_type": "markdown",
   "id": "5677b03c",
   "metadata": {},
   "source": [
    "# Occupation"
   ]
  },
  {
   "cell_type": "code",
   "execution_count": null,
   "id": "e9789173",
   "metadata": {},
   "outputs": [],
   "source": [
    "# importing dataset\n",
    "occupation_dataset = pd.read_csv('./data/cleaned/occupation_cleaned.csv')\n",
    "occupation_dataset.head()"
   ]
  },
  {
   "cell_type": "code",
   "execution_count": null,
   "id": "6e52b92e",
   "metadata": {},
   "outputs": [],
   "source": [
    "# dataset columns\n",
    "occupation_dataset.columns"
   ]
  },
  {
   "cell_type": "code",
   "execution_count": null,
   "id": "45d22180",
   "metadata": {},
   "outputs": [],
   "source": [
    "# Calculation of number of individuals for each occupation per state\n",
    "occupation_dataset = occupation_dataset[\n",
    "    ['State', 'Occupation classification', 'Main/Marginal', 'Persons']\n",
    "].groupby(['State', 'Occupation classification']).sum()\n",
    "occupation_dataset.head()"
   ]
  },
  {
   "cell_type": "code",
   "execution_count": null,
   "id": "29e6b65b",
   "metadata": {},
   "outputs": [],
   "source": [
    "# renaming persons to n\n",
    "occupation_dataset.rename({'Persons': 'n'}, inplace=True, axis=1)"
   ]
  },
  {
   "cell_type": "code",
   "execution_count": null,
   "id": "5162f372",
   "metadata": {},
   "outputs": [],
   "source": [
    "occupation_dataset"
   ]
  },
  {
   "cell_type": "code",
   "execution_count": null,
   "id": "e756b2e8",
   "metadata": {},
   "outputs": [],
   "source": [
    "# Total persons per state\n",
    "total_persons_pers_state = pd.DataFrame(occupation_dataset['n'].groupby(level=0).sum())\n",
    "total_persons_pers_state.head()"
   ]
  },
  {
   "cell_type": "code",
   "execution_count": null,
   "id": "ac624433",
   "metadata": {},
   "outputs": [],
   "source": [
    "# Occupation proportion\n",
    "occupation_dataset['p'] = occupation_dataset.apply(\n",
    "    lambda row: row.n / total_persons_pers_state.loc[row.name[0]], axis=1\n",
    ")\n",
    "occupation_dataset.head()"
   ]
  },
  {
   "cell_type": "code",
   "execution_count": null,
   "id": "2b9e07d4",
   "metadata": {},
   "outputs": [],
   "source": [
    "occupation_dataset['ln_p'] = occupation_dataset['p'].apply(lambda value: math.log(value))\n",
    "occupation_dataset.head()"
   ]
  },
  {
   "cell_type": "code",
   "execution_count": null,
   "id": "ecf6c654",
   "metadata": {},
   "outputs": [],
   "source": [
    "occupation_dataset['p_ln_p'] = occupation_dataset['p'] * occupation_dataset['ln_p']\n",
    "occupation_dataset.head()"
   ]
  },
  {
   "cell_type": "code",
   "execution_count": null,
   "id": "4f336e3b",
   "metadata": {},
   "outputs": [],
   "source": [
    "shannon_index = pd.DataFrame(occupation_dataset['p_ln_p'].groupby(level=0).sum() * -1)\n",
    "shannon_index.reset_index(inplace=True)\n",
    "occupation_si = shannon_index.copy()\n",
    "occupation_si.rename({'State': 'state'}, inplace=True, axis=1)\n",
    "occupation_si.head()"
   ]
  },
  {
   "cell_type": "code",
   "execution_count": null,
   "id": "5337562a",
   "metadata": {},
   "outputs": [],
   "source": [
    "occupation_si.to_csv('occupation_si.csv', index=False)"
   ]
  },
  {
   "cell_type": "markdown",
   "id": "f378c836",
   "metadata": {},
   "source": [
    "# Migrations"
   ]
  },
  {
   "cell_type": "code",
   "execution_count": null,
   "id": "ef976242",
   "metadata": {},
   "outputs": [],
   "source": [
    "# importing dataset\n",
    "migration_dataset = pd.read_csv('./data/cleaned/migration_cleaned.csv')\n",
    "migration_dataset.head()"
   ]
  },
  {
   "cell_type": "code",
   "execution_count": null,
   "id": "725bec7d",
   "metadata": {},
   "outputs": [],
   "source": [
    "# dataset columns\n",
    "migration_dataset.columns"
   ]
  },
  {
   "cell_type": "code",
   "execution_count": null,
   "id": "2bd6a1f6",
   "metadata": {},
   "outputs": [],
   "source": [
    "# setting index to multi index \n",
    "migration_dataset = migration_dataset.set_index(['Current state', 'Previous residence'])\n",
    "# migration_dataset.rename({'Current state': 'state'}, inplace=True, axis=1)\n",
    "migration_dataset.head()"
   ]
  },
  {
   "cell_type": "code",
   "execution_count": null,
   "id": "31f8f56a",
   "metadata": {},
   "outputs": [],
   "source": [
    "migration_dataset.rename({'Persons': 'n'}, inplace=True, axis=1)\n",
    "migration_dataset.head()"
   ]
  },
  {
   "cell_type": "code",
   "execution_count": null,
   "id": "bc4d39b9",
   "metadata": {},
   "outputs": [],
   "source": [
    "# Total persons per state\n",
    "total_persons_pers_state = pd.DataFrame(migration_dataset['n'].groupby(level=0).sum())\n",
    "total_persons_pers_state.head()"
   ]
  },
  {
   "cell_type": "code",
   "execution_count": null,
   "id": "78fa49dc",
   "metadata": {},
   "outputs": [],
   "source": [
    "# Migration proportion\n",
    "migration_dataset['p'] = migration_dataset.apply(\n",
    "    lambda row: row.n / total_persons_pers_state.loc[row.name[0]], axis=1\n",
    ")\n",
    "migration_dataset.head()"
   ]
  },
  {
   "cell_type": "code",
   "execution_count": null,
   "id": "e817c48b",
   "metadata": {},
   "outputs": [],
   "source": [
    "migration_dataset['ln_p'] = migration_dataset['p'].apply(lambda value: math.log(value) if value != 0 else 0)\n",
    "migration_dataset.head()"
   ]
  },
  {
   "cell_type": "code",
   "execution_count": null,
   "id": "a8796d27",
   "metadata": {},
   "outputs": [],
   "source": [
    "migration_dataset['p_ln_p'] = migration_dataset['p'] * migration_dataset['ln_p']\n",
    "migration_dataset.head()"
   ]
  },
  {
   "cell_type": "code",
   "execution_count": null,
   "id": "5bcd19bf",
   "metadata": {},
   "outputs": [],
   "source": [
    "shannon_index = pd.DataFrame(migration_dataset['p_ln_p'].groupby(level=0).sum() * -1)\n",
    "shannon_index.reset_index(inplace=True)\n",
    "migration_si = shannon_index.copy()\n",
    "migration_si.rename({'Current state': 'state'}, inplace=True, axis=1)\n",
    "migration_si.head()"
   ]
  },
  {
   "cell_type": "code",
   "execution_count": null,
   "id": "7bde8333",
   "metadata": {},
   "outputs": [],
   "source": [
    "migration_si.to_csv('migration_si.csv', index=False)"
   ]
  },
  {
   "cell_type": "markdown",
   "id": "d68cf78c",
   "metadata": {},
   "source": [
    "# Mother tongue diversity "
   ]
  },
  {
   "cell_type": "code",
   "execution_count": null,
   "id": "a9f4b981",
   "metadata": {},
   "outputs": [],
   "source": [
    "# importing dataset\n",
    "mtd_dataset = pd.read_csv('./data/cleaned/mother_tongue_diversity_cleaned.csv')\n",
    "mtd_dataset.head()"
   ]
  },
  {
   "cell_type": "code",
   "execution_count": null,
   "id": "f3c854f5",
   "metadata": {},
   "outputs": [],
   "source": [
    "# dataset columns\n",
    "mtd_dataset.columns"
   ]
  },
  {
   "cell_type": "code",
   "execution_count": null,
   "id": "a1c89dfb",
   "metadata": {},
   "outputs": [],
   "source": [
    "# setting index to multi index \n",
    "mtd_dataset = mtd_dataset.set_index(['Area name', 'Mother tongue name'])\n",
    "mtd_dataset.head()"
   ]
  },
  {
   "cell_type": "code",
   "execution_count": null,
   "id": "befa4d33",
   "metadata": {},
   "outputs": [],
   "source": [
    "# renaming persons to n\n",
    "mtd_dataset.rename({'Persons': 'n'}, inplace=True, axis=1)\n",
    "mtd_dataset.head()"
   ]
  },
  {
   "cell_type": "code",
   "execution_count": null,
   "id": "d4438935",
   "metadata": {},
   "outputs": [],
   "source": [
    "# Total persons per state\n",
    "total_persons_pers_state = pd.DataFrame(mtd_dataset['n'].groupby(level=0).sum())\n",
    "total_persons_pers_state.head()"
   ]
  },
  {
   "cell_type": "code",
   "execution_count": null,
   "id": "ab0321d6",
   "metadata": {},
   "outputs": [],
   "source": [
    "# Mother tongue proportion\n",
    "mtd_dataset['p'] = mtd_dataset.apply(\n",
    "    lambda row: row.n / total_persons_pers_state.loc[row.name[0]], axis=1\n",
    ")\n",
    "mtd_dataset.head()"
   ]
  },
  {
   "cell_type": "code",
   "execution_count": null,
   "id": "7bde3363",
   "metadata": {},
   "outputs": [],
   "source": [
    "mtd_dataset['ln_p'] = mtd_dataset['p'].apply(lambda value: math.log(value))\n",
    "mtd_dataset.head()"
   ]
  },
  {
   "cell_type": "code",
   "execution_count": null,
   "id": "9e7bc4c6",
   "metadata": {},
   "outputs": [],
   "source": [
    "mtd_dataset['p_ln_p'] = mtd_dataset['p'] * mtd_dataset['ln_p']\n",
    "mtd_dataset.head()"
   ]
  },
  {
   "cell_type": "code",
   "execution_count": null,
   "id": "5bcb16d6",
   "metadata": {},
   "outputs": [],
   "source": [
    "shannon_index = pd.DataFrame(mtd_dataset['p_ln_p'].groupby(level=0).sum() * -1)\n",
    "shannon_index.reset_index(inplace=True)\n",
    "mtd_si = shannon_index.copy()\n",
    "mtd_si.rename({'State': 'state'}, inplace=True, axis=1)\n",
    "mtd_si.head()"
   ]
  },
  {
   "cell_type": "code",
   "execution_count": null,
   "id": "90292bac",
   "metadata": {},
   "outputs": [],
   "source": []
  },
  {
   "cell_type": "code",
   "execution_count": null,
   "id": "9ba968e5",
   "metadata": {},
   "outputs": [],
   "source": [
    "mtd_si.to_csv('mother_tongue_diversity_si.csv', index=False)"
   ]
  },
  {
   "cell_type": "markdown",
   "id": "8c6eac95",
   "metadata": {},
   "source": [
    "# Religion"
   ]
  },
  {
   "cell_type": "code",
   "execution_count": 2,
   "id": "81affc17",
   "metadata": {},
   "outputs": [
    {
     "data": {
      "text/html": [
       "<div>\n",
       "<style scoped>\n",
       "    .dataframe tbody tr th:only-of-type {\n",
       "        vertical-align: middle;\n",
       "    }\n",
       "\n",
       "    .dataframe tbody tr th {\n",
       "        vertical-align: top;\n",
       "    }\n",
       "\n",
       "    .dataframe thead th {\n",
       "        text-align: right;\n",
       "    }\n",
       "</style>\n",
       "<table border=\"1\" class=\"dataframe\">\n",
       "  <thead>\n",
       "    <tr style=\"text-align: right;\">\n",
       "      <th></th>\n",
       "      <th>State</th>\n",
       "      <th>Religion</th>\n",
       "      <th>Persons</th>\n",
       "    </tr>\n",
       "  </thead>\n",
       "  <tbody>\n",
       "    <tr>\n",
       "      <th>0</th>\n",
       "      <td>JAMMU &amp; KASHMIR</td>\n",
       "      <td>Hindu</td>\n",
       "      <td>3566674.0</td>\n",
       "    </tr>\n",
       "    <tr>\n",
       "      <th>1</th>\n",
       "      <td>JAMMU &amp; KASHMIR</td>\n",
       "      <td>Islam/Muslim</td>\n",
       "      <td>8567485.0</td>\n",
       "    </tr>\n",
       "    <tr>\n",
       "      <th>2</th>\n",
       "      <td>JAMMU &amp; KASHMIR</td>\n",
       "      <td>Christian</td>\n",
       "      <td>35631.0</td>\n",
       "    </tr>\n",
       "    <tr>\n",
       "      <th>3</th>\n",
       "      <td>JAMMU &amp; KASHMIR</td>\n",
       "      <td>Sikh</td>\n",
       "      <td>234848.0</td>\n",
       "    </tr>\n",
       "    <tr>\n",
       "      <th>4</th>\n",
       "      <td>JAMMU &amp; KASHMIR</td>\n",
       "      <td>Buddhist</td>\n",
       "      <td>112584.0</td>\n",
       "    </tr>\n",
       "  </tbody>\n",
       "</table>\n",
       "</div>"
      ],
      "text/plain": [
       "             State      Religion    Persons\n",
       "0  JAMMU & KASHMIR         Hindu  3566674.0\n",
       "1  JAMMU & KASHMIR  Islam/Muslim  8567485.0\n",
       "2  JAMMU & KASHMIR     Christian    35631.0\n",
       "3  JAMMU & KASHMIR          Sikh   234848.0\n",
       "4  JAMMU & KASHMIR      Buddhist   112584.0"
      ]
     },
     "execution_count": 2,
     "metadata": {},
     "output_type": "execute_result"
    }
   ],
   "source": [
    "# importing dataset\n",
    "religion_dataset = pd.read_csv('./data/cleaned/religion_cleaned.csv')\n",
    "religion_dataset.head()"
   ]
  },
  {
   "cell_type": "code",
   "execution_count": 3,
   "id": "182e3647",
   "metadata": {},
   "outputs": [
    {
     "data": {
      "text/plain": [
       "Index(['State', 'Religion', 'Persons'], dtype='object')"
      ]
     },
     "execution_count": 3,
     "metadata": {},
     "output_type": "execute_result"
    }
   ],
   "source": [
    "# dataset columns\n",
    "religion_dataset.columns"
   ]
  },
  {
   "cell_type": "code",
   "execution_count": 4,
   "id": "01703729",
   "metadata": {},
   "outputs": [
    {
     "data": {
      "text/html": [
       "<div>\n",
       "<style scoped>\n",
       "    .dataframe tbody tr th:only-of-type {\n",
       "        vertical-align: middle;\n",
       "    }\n",
       "\n",
       "    .dataframe tbody tr th {\n",
       "        vertical-align: top;\n",
       "    }\n",
       "\n",
       "    .dataframe thead th {\n",
       "        text-align: right;\n",
       "    }\n",
       "</style>\n",
       "<table border=\"1\" class=\"dataframe\">\n",
       "  <thead>\n",
       "    <tr style=\"text-align: right;\">\n",
       "      <th></th>\n",
       "      <th></th>\n",
       "      <th>Persons</th>\n",
       "    </tr>\n",
       "    <tr>\n",
       "      <th>State</th>\n",
       "      <th>Religion</th>\n",
       "      <th></th>\n",
       "    </tr>\n",
       "  </thead>\n",
       "  <tbody>\n",
       "    <tr>\n",
       "      <th rowspan=\"5\" valign=\"top\">JAMMU &amp; KASHMIR</th>\n",
       "      <th>Hindu</th>\n",
       "      <td>3566674.0</td>\n",
       "    </tr>\n",
       "    <tr>\n",
       "      <th>Islam/Muslim</th>\n",
       "      <td>8567485.0</td>\n",
       "    </tr>\n",
       "    <tr>\n",
       "      <th>Christian</th>\n",
       "      <td>35631.0</td>\n",
       "    </tr>\n",
       "    <tr>\n",
       "      <th>Sikh</th>\n",
       "      <td>234848.0</td>\n",
       "    </tr>\n",
       "    <tr>\n",
       "      <th>Buddhist</th>\n",
       "      <td>112584.0</td>\n",
       "    </tr>\n",
       "  </tbody>\n",
       "</table>\n",
       "</div>"
      ],
      "text/plain": [
       "                                Persons\n",
       "State           Religion               \n",
       "JAMMU & KASHMIR Hindu         3566674.0\n",
       "                Islam/Muslim  8567485.0\n",
       "                Christian       35631.0\n",
       "                Sikh           234848.0\n",
       "                Buddhist       112584.0"
      ]
     },
     "execution_count": 4,
     "metadata": {},
     "output_type": "execute_result"
    }
   ],
   "source": [
    "# setting index to multi index \n",
    "religion_dataset = religion_dataset.set_index(['State', 'Religion'])\n",
    "religion_dataset.head()"
   ]
  },
  {
   "cell_type": "code",
   "execution_count": 5,
   "id": "733a01d1",
   "metadata": {},
   "outputs": [
    {
     "data": {
      "text/html": [
       "<div>\n",
       "<style scoped>\n",
       "    .dataframe tbody tr th:only-of-type {\n",
       "        vertical-align: middle;\n",
       "    }\n",
       "\n",
       "    .dataframe tbody tr th {\n",
       "        vertical-align: top;\n",
       "    }\n",
       "\n",
       "    .dataframe thead th {\n",
       "        text-align: right;\n",
       "    }\n",
       "</style>\n",
       "<table border=\"1\" class=\"dataframe\">\n",
       "  <thead>\n",
       "    <tr style=\"text-align: right;\">\n",
       "      <th></th>\n",
       "      <th></th>\n",
       "      <th>n</th>\n",
       "    </tr>\n",
       "    <tr>\n",
       "      <th>State</th>\n",
       "      <th>Religion</th>\n",
       "      <th></th>\n",
       "    </tr>\n",
       "  </thead>\n",
       "  <tbody>\n",
       "    <tr>\n",
       "      <th rowspan=\"5\" valign=\"top\">JAMMU &amp; KASHMIR</th>\n",
       "      <th>Hindu</th>\n",
       "      <td>3566674.0</td>\n",
       "    </tr>\n",
       "    <tr>\n",
       "      <th>Islam/Muslim</th>\n",
       "      <td>8567485.0</td>\n",
       "    </tr>\n",
       "    <tr>\n",
       "      <th>Christian</th>\n",
       "      <td>35631.0</td>\n",
       "    </tr>\n",
       "    <tr>\n",
       "      <th>Sikh</th>\n",
       "      <td>234848.0</td>\n",
       "    </tr>\n",
       "    <tr>\n",
       "      <th>Buddhist</th>\n",
       "      <td>112584.0</td>\n",
       "    </tr>\n",
       "  </tbody>\n",
       "</table>\n",
       "</div>"
      ],
      "text/plain": [
       "                                      n\n",
       "State           Religion               \n",
       "JAMMU & KASHMIR Hindu         3566674.0\n",
       "                Islam/Muslim  8567485.0\n",
       "                Christian       35631.0\n",
       "                Sikh           234848.0\n",
       "                Buddhist       112584.0"
      ]
     },
     "execution_count": 5,
     "metadata": {},
     "output_type": "execute_result"
    }
   ],
   "source": [
    "# renaming persons to n\n",
    "religion_dataset.rename({'Persons': 'n'}, inplace=True, axis=1)\n",
    "religion_dataset.head()"
   ]
  },
  {
   "cell_type": "code",
   "execution_count": 6,
   "id": "5b06def6",
   "metadata": {},
   "outputs": [
    {
     "data": {
      "text/html": [
       "<div>\n",
       "<style scoped>\n",
       "    .dataframe tbody tr th:only-of-type {\n",
       "        vertical-align: middle;\n",
       "    }\n",
       "\n",
       "    .dataframe tbody tr th {\n",
       "        vertical-align: top;\n",
       "    }\n",
       "\n",
       "    .dataframe thead th {\n",
       "        text-align: right;\n",
       "    }\n",
       "</style>\n",
       "<table border=\"1\" class=\"dataframe\">\n",
       "  <thead>\n",
       "    <tr style=\"text-align: right;\">\n",
       "      <th></th>\n",
       "      <th>n</th>\n",
       "    </tr>\n",
       "    <tr>\n",
       "      <th>State</th>\n",
       "      <th></th>\n",
       "    </tr>\n",
       "  </thead>\n",
       "  <tbody>\n",
       "    <tr>\n",
       "      <th>ANDAMAN &amp; NICOBAR ISLANDS</th>\n",
       "      <td>379348.0</td>\n",
       "    </tr>\n",
       "    <tr>\n",
       "      <th>ANDHRA PRADESH</th>\n",
       "      <td>84167130.0</td>\n",
       "    </tr>\n",
       "    <tr>\n",
       "      <th>ARUNACHAL PRADESH</th>\n",
       "      <td>1014526.0</td>\n",
       "    </tr>\n",
       "    <tr>\n",
       "      <th>ASSAM</th>\n",
       "      <td>31127585.0</td>\n",
       "    </tr>\n",
       "    <tr>\n",
       "      <th>BIHAR</th>\n",
       "      <td>103833888.0</td>\n",
       "    </tr>\n",
       "  </tbody>\n",
       "</table>\n",
       "</div>"
      ],
      "text/plain": [
       "                                     n\n",
       "State                                 \n",
       "ANDAMAN & NICOBAR ISLANDS     379348.0\n",
       "ANDHRA PRADESH              84167130.0\n",
       "ARUNACHAL PRADESH            1014526.0\n",
       "ASSAM                       31127585.0\n",
       "BIHAR                      103833888.0"
      ]
     },
     "execution_count": 6,
     "metadata": {},
     "output_type": "execute_result"
    }
   ],
   "source": [
    "# Total persons per state\n",
    "total_persons_pers_state = pd.DataFrame(religion_dataset['n'].groupby(level=0).sum())\n",
    "total_persons_pers_state.head()"
   ]
  },
  {
   "cell_type": "code",
   "execution_count": 7,
   "id": "a75f0362",
   "metadata": {},
   "outputs": [
    {
     "data": {
      "text/html": [
       "<div>\n",
       "<style scoped>\n",
       "    .dataframe tbody tr th:only-of-type {\n",
       "        vertical-align: middle;\n",
       "    }\n",
       "\n",
       "    .dataframe tbody tr th {\n",
       "        vertical-align: top;\n",
       "    }\n",
       "\n",
       "    .dataframe thead th {\n",
       "        text-align: right;\n",
       "    }\n",
       "</style>\n",
       "<table border=\"1\" class=\"dataframe\">\n",
       "  <thead>\n",
       "    <tr style=\"text-align: right;\">\n",
       "      <th></th>\n",
       "      <th></th>\n",
       "      <th>n</th>\n",
       "      <th>p</th>\n",
       "    </tr>\n",
       "    <tr>\n",
       "      <th>State</th>\n",
       "      <th>Religion</th>\n",
       "      <th></th>\n",
       "      <th></th>\n",
       "    </tr>\n",
       "  </thead>\n",
       "  <tbody>\n",
       "    <tr>\n",
       "      <th rowspan=\"5\" valign=\"top\">JAMMU &amp; KASHMIR</th>\n",
       "      <th>Hindu</th>\n",
       "      <td>3566674.0</td>\n",
       "      <td>0.284885</td>\n",
       "    </tr>\n",
       "    <tr>\n",
       "      <th>Islam/Muslim</th>\n",
       "      <td>8567485.0</td>\n",
       "      <td>0.684320</td>\n",
       "    </tr>\n",
       "    <tr>\n",
       "      <th>Christian</th>\n",
       "      <td>35631.0</td>\n",
       "      <td>0.002846</td>\n",
       "    </tr>\n",
       "    <tr>\n",
       "      <th>Sikh</th>\n",
       "      <td>234848.0</td>\n",
       "      <td>0.018758</td>\n",
       "    </tr>\n",
       "    <tr>\n",
       "      <th>Buddhist</th>\n",
       "      <td>112584.0</td>\n",
       "      <td>0.008993</td>\n",
       "    </tr>\n",
       "  </tbody>\n",
       "</table>\n",
       "</div>"
      ],
      "text/plain": [
       "                                      n         p\n",
       "State           Religion                         \n",
       "JAMMU & KASHMIR Hindu         3566674.0  0.284885\n",
       "                Islam/Muslim  8567485.0  0.684320\n",
       "                Christian       35631.0  0.002846\n",
       "                Sikh           234848.0  0.018758\n",
       "                Buddhist       112584.0  0.008993"
      ]
     },
     "execution_count": 7,
     "metadata": {},
     "output_type": "execute_result"
    }
   ],
   "source": [
    "# Mother tongue proportion\n",
    "religion_dataset['p'] = religion_dataset.apply(\n",
    "    lambda row: row.n / total_persons_pers_state.loc[row.name[0]], axis=1\n",
    ")\n",
    "religion_dataset.head()"
   ]
  },
  {
   "cell_type": "code",
   "execution_count": 8,
   "id": "33b8dfdc",
   "metadata": {},
   "outputs": [
    {
     "data": {
      "text/html": [
       "<div>\n",
       "<style scoped>\n",
       "    .dataframe tbody tr th:only-of-type {\n",
       "        vertical-align: middle;\n",
       "    }\n",
       "\n",
       "    .dataframe tbody tr th {\n",
       "        vertical-align: top;\n",
       "    }\n",
       "\n",
       "    .dataframe thead th {\n",
       "        text-align: right;\n",
       "    }\n",
       "</style>\n",
       "<table border=\"1\" class=\"dataframe\">\n",
       "  <thead>\n",
       "    <tr style=\"text-align: right;\">\n",
       "      <th></th>\n",
       "      <th></th>\n",
       "      <th>n</th>\n",
       "      <th>p</th>\n",
       "      <th>ln_p</th>\n",
       "    </tr>\n",
       "    <tr>\n",
       "      <th>State</th>\n",
       "      <th>Religion</th>\n",
       "      <th></th>\n",
       "      <th></th>\n",
       "      <th></th>\n",
       "    </tr>\n",
       "  </thead>\n",
       "  <tbody>\n",
       "    <tr>\n",
       "      <th rowspan=\"5\" valign=\"top\">JAMMU &amp; KASHMIR</th>\n",
       "      <th>Hindu</th>\n",
       "      <td>3566674.0</td>\n",
       "      <td>0.284885</td>\n",
       "      <td>-1.255671</td>\n",
       "    </tr>\n",
       "    <tr>\n",
       "      <th>Islam/Muslim</th>\n",
       "      <td>8567485.0</td>\n",
       "      <td>0.684320</td>\n",
       "      <td>-0.379330</td>\n",
       "    </tr>\n",
       "    <tr>\n",
       "      <th>Christian</th>\n",
       "      <td>35631.0</td>\n",
       "      <td>0.002846</td>\n",
       "      <td>-5.861844</td>\n",
       "    </tr>\n",
       "    <tr>\n",
       "      <th>Sikh</th>\n",
       "      <td>234848.0</td>\n",
       "      <td>0.018758</td>\n",
       "      <td>-3.976121</td>\n",
       "    </tr>\n",
       "    <tr>\n",
       "      <th>Buddhist</th>\n",
       "      <td>112584.0</td>\n",
       "      <td>0.008993</td>\n",
       "      <td>-4.711360</td>\n",
       "    </tr>\n",
       "  </tbody>\n",
       "</table>\n",
       "</div>"
      ],
      "text/plain": [
       "                                      n         p      ln_p\n",
       "State           Religion                                   \n",
       "JAMMU & KASHMIR Hindu         3566674.0  0.284885 -1.255671\n",
       "                Islam/Muslim  8567485.0  0.684320 -0.379330\n",
       "                Christian       35631.0  0.002846 -5.861844\n",
       "                Sikh           234848.0  0.018758 -3.976121\n",
       "                Buddhist       112584.0  0.008993 -4.711360"
      ]
     },
     "execution_count": 8,
     "metadata": {},
     "output_type": "execute_result"
    }
   ],
   "source": [
    "religion_dataset['ln_p'] = religion_dataset['p'].apply(lambda value: math.log(value))\n",
    "religion_dataset.head()"
   ]
  },
  {
   "cell_type": "code",
   "execution_count": 9,
   "id": "70d0df56",
   "metadata": {},
   "outputs": [
    {
     "data": {
      "text/html": [
       "<div>\n",
       "<style scoped>\n",
       "    .dataframe tbody tr th:only-of-type {\n",
       "        vertical-align: middle;\n",
       "    }\n",
       "\n",
       "    .dataframe tbody tr th {\n",
       "        vertical-align: top;\n",
       "    }\n",
       "\n",
       "    .dataframe thead th {\n",
       "        text-align: right;\n",
       "    }\n",
       "</style>\n",
       "<table border=\"1\" class=\"dataframe\">\n",
       "  <thead>\n",
       "    <tr style=\"text-align: right;\">\n",
       "      <th></th>\n",
       "      <th></th>\n",
       "      <th>n</th>\n",
       "      <th>p</th>\n",
       "      <th>ln_p</th>\n",
       "      <th>p_ln_p</th>\n",
       "    </tr>\n",
       "    <tr>\n",
       "      <th>State</th>\n",
       "      <th>Religion</th>\n",
       "      <th></th>\n",
       "      <th></th>\n",
       "      <th></th>\n",
       "      <th></th>\n",
       "    </tr>\n",
       "  </thead>\n",
       "  <tbody>\n",
       "    <tr>\n",
       "      <th rowspan=\"5\" valign=\"top\">JAMMU &amp; KASHMIR</th>\n",
       "      <th>Hindu</th>\n",
       "      <td>3566674.0</td>\n",
       "      <td>0.284885</td>\n",
       "      <td>-1.255671</td>\n",
       "      <td>-0.357721</td>\n",
       "    </tr>\n",
       "    <tr>\n",
       "      <th>Islam/Muslim</th>\n",
       "      <td>8567485.0</td>\n",
       "      <td>0.684320</td>\n",
       "      <td>-0.379330</td>\n",
       "      <td>-0.259583</td>\n",
       "    </tr>\n",
       "    <tr>\n",
       "      <th>Christian</th>\n",
       "      <td>35631.0</td>\n",
       "      <td>0.002846</td>\n",
       "      <td>-5.861844</td>\n",
       "      <td>-0.016683</td>\n",
       "    </tr>\n",
       "    <tr>\n",
       "      <th>Sikh</th>\n",
       "      <td>234848.0</td>\n",
       "      <td>0.018758</td>\n",
       "      <td>-3.976121</td>\n",
       "      <td>-0.074585</td>\n",
       "    </tr>\n",
       "    <tr>\n",
       "      <th>Buddhist</th>\n",
       "      <td>112584.0</td>\n",
       "      <td>0.008993</td>\n",
       "      <td>-4.711360</td>\n",
       "      <td>-0.042367</td>\n",
       "    </tr>\n",
       "  </tbody>\n",
       "</table>\n",
       "</div>"
      ],
      "text/plain": [
       "                                      n         p      ln_p    p_ln_p\n",
       "State           Religion                                             \n",
       "JAMMU & KASHMIR Hindu         3566674.0  0.284885 -1.255671 -0.357721\n",
       "                Islam/Muslim  8567485.0  0.684320 -0.379330 -0.259583\n",
       "                Christian       35631.0  0.002846 -5.861844 -0.016683\n",
       "                Sikh           234848.0  0.018758 -3.976121 -0.074585\n",
       "                Buddhist       112584.0  0.008993 -4.711360 -0.042367"
      ]
     },
     "execution_count": 9,
     "metadata": {},
     "output_type": "execute_result"
    }
   ],
   "source": [
    "religion_dataset['p_ln_p'] = religion_dataset['p'] * religion_dataset['ln_p']\n",
    "religion_dataset.head()"
   ]
  },
  {
   "cell_type": "code",
   "execution_count": 10,
   "id": "3fdace39",
   "metadata": {},
   "outputs": [
    {
     "data": {
      "text/html": [
       "<div>\n",
       "<style scoped>\n",
       "    .dataframe tbody tr th:only-of-type {\n",
       "        vertical-align: middle;\n",
       "    }\n",
       "\n",
       "    .dataframe tbody tr th {\n",
       "        vertical-align: top;\n",
       "    }\n",
       "\n",
       "    .dataframe thead th {\n",
       "        text-align: right;\n",
       "    }\n",
       "</style>\n",
       "<table border=\"1\" class=\"dataframe\">\n",
       "  <thead>\n",
       "    <tr style=\"text-align: right;\">\n",
       "      <th></th>\n",
       "      <th>state</th>\n",
       "      <th>p_ln_p</th>\n",
       "    </tr>\n",
       "  </thead>\n",
       "  <tbody>\n",
       "    <tr>\n",
       "      <th>0</th>\n",
       "      <td>ANDAMAN &amp; NICOBAR ISLANDS</td>\n",
       "      <td>0.817929</td>\n",
       "    </tr>\n",
       "    <tr>\n",
       "      <th>1</th>\n",
       "      <td>ANDHRA PRADESH</td>\n",
       "      <td>0.399206</td>\n",
       "    </tr>\n",
       "    <tr>\n",
       "      <th>2</th>\n",
       "      <td>ARUNACHAL PRADESH</td>\n",
       "      <td>1.146343</td>\n",
       "    </tr>\n",
       "    <tr>\n",
       "      <th>3</th>\n",
       "      <td>ASSAM</td>\n",
       "      <td>0.810371</td>\n",
       "    </tr>\n",
       "    <tr>\n",
       "      <th>4</th>\n",
       "      <td>BIHAR</td>\n",
       "      <td>0.469847</td>\n",
       "    </tr>\n",
       "  </tbody>\n",
       "</table>\n",
       "</div>"
      ],
      "text/plain": [
       "                       state    p_ln_p\n",
       "0  ANDAMAN & NICOBAR ISLANDS  0.817929\n",
       "1             ANDHRA PRADESH  0.399206\n",
       "2          ARUNACHAL PRADESH  1.146343\n",
       "3                      ASSAM  0.810371\n",
       "4                      BIHAR  0.469847"
      ]
     },
     "execution_count": 10,
     "metadata": {},
     "output_type": "execute_result"
    }
   ],
   "source": [
    "shannon_index = pd.DataFrame(religion_dataset['p_ln_p'].groupby(level=0).sum() * -1)\n",
    "shannon_index.reset_index(inplace=True)\n",
    "religion_si = shannon_index.copy()\n",
    "religion_si.rename({'State': 'state'}, inplace=True, axis=1)\n",
    "religion_si.head()"
   ]
  },
  {
   "cell_type": "code",
   "execution_count": 11,
   "id": "853772ec",
   "metadata": {},
   "outputs": [],
   "source": [
    "religion_si.to_csv('religion_si.csv', index=False)"
   ]
  },
  {
   "cell_type": "code",
   "execution_count": null,
   "id": "9f1bb66a",
   "metadata": {},
   "outputs": [],
   "source": []
  }
 ],
 "metadata": {
  "kernelspec": {
   "display_name": "Python 3 (ipykernel)",
   "language": "python",
   "name": "python3"
  },
  "language_info": {
   "codemirror_mode": {
    "name": "ipython",
    "version": 3
   },
   "file_extension": ".py",
   "mimetype": "text/x-python",
   "name": "python",
   "nbconvert_exporter": "python",
   "pygments_lexer": "ipython3",
   "version": "3.9.15"
  }
 },
 "nbformat": 4,
 "nbformat_minor": 5
}
