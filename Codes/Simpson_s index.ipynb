{
 "cells": [
  {
   "cell_type": "code",
   "execution_count": null,
   "id": "8fdfb59f",
   "metadata": {},
   "outputs": [],
   "source": [
    "# importing libraries\n",
    "import pandas as pd\n",
    "import matplotlib.pyplot as plt"
   ]
  },
  {
   "cell_type": "markdown",
   "id": "e63eee58",
   "metadata": {},
   "source": [
    "### Simpson's index\n",
    "\n",
    "Formula: <br>\n",
    "1 - (sum_n * (sum_n - 1) / N * (N - 1))\n",
    "\n",
    "<br>\n",
    "<br>\n",
    "sum_n = Sum number of individuals of each species <br>\n",
    "N = total number of individuals of all species"
   ]
  },
  {
   "cell_type": "markdown",
   "id": "5677b03c",
   "metadata": {},
   "source": [
    "# Occupation"
   ]
  },
  {
   "cell_type": "code",
   "execution_count": null,
   "id": "e9789173",
   "metadata": {},
   "outputs": [],
   "source": [
    "# importing dataset\n",
    "occupation_dataset = pd.read_csv('./data/cleaned/occupation_cleaned.csv')\n",
    "occupation_dataset.head()"
   ]
  },
  {
   "cell_type": "code",
   "execution_count": null,
   "id": "6e52b92e",
   "metadata": {},
   "outputs": [],
   "source": [
    "# dataset columns\n",
    "occupation_dataset.columns"
   ]
  },
  {
   "cell_type": "code",
   "execution_count": null,
   "id": "45d22180",
   "metadata": {},
   "outputs": [],
   "source": [
    "# Calculation of number of individuals for each occupation per state\n",
    "occupation_dataset = occupation_dataset[\n",
    "    ['State', 'Occupation classification', 'Main/Marginal', 'Persons']\n",
    "].groupby(['State', 'Occupation classification']).sum()\n",
    "occupation_dataset.head()"
   ]
  },
  {
   "cell_type": "code",
   "execution_count": null,
   "id": "29e6b65b",
   "metadata": {},
   "outputs": [],
   "source": [
    "# Calculation of n - 1 == Persons - 1\n",
    "occupation_dataset['n-1'] = occupation_dataset['Persons'] - 1\n",
    "occupation_dataset.head()"
   ]
  },
  {
   "cell_type": "code",
   "execution_count": null,
   "id": "23eb882b",
   "metadata": {},
   "outputs": [],
   "source": [
    "# Calculation of n (n - 1) == Persons (Persons - 1)\n",
    "occupation_dataset['n(n-1)'] = \\\n",
    "occupation_dataset['Persons'] * occupation_dataset['n-1']\n",
    "\n",
    "occupation_dataset.head()"
   ]
  },
  {
   "cell_type": "code",
   "execution_count": null,
   "id": "7bf157f6",
   "metadata": {},
   "outputs": [],
   "source": [
    "# Converting groupby to dataframe\n",
    "computations = pd.DataFrame(occupation_dataset['n(n-1)'].groupby(level=0).sum())\n",
    "computations.rename({ \"n(n-1)\": \"sum_n(n-1)\"}, inplace=True, axis=1)\n",
    "computations.reset_index(inplace=True)\n",
    "computations.head()"
   ]
  },
  {
   "cell_type": "code",
   "execution_count": null,
   "id": "e756b2e8",
   "metadata": {},
   "outputs": [],
   "source": [
    "# Sum of persons per state\n",
    "computations['N'] = pd.DataFrame(occupation_dataset['Persons'] \\\n",
    "                                              .groupby(level=0).sum())['Persons'].values\n",
    "computations.head()"
   ]
  },
  {
   "cell_type": "code",
   "execution_count": null,
   "id": "b686e9f4",
   "metadata": {},
   "outputs": [],
   "source": [
    "# N (N - 1)\n",
    "computations['N(N-1)'] = computations['N'] * (computations['N'] - 1)\n",
    "computations.head()"
   ]
  },
  {
   "cell_type": "code",
   "execution_count": null,
   "id": "d309d256",
   "metadata": {},
   "outputs": [],
   "source": [
    "# Calculation of simpson's index\n",
    "computations['SDI'] = 1 - (computations['sum_n(n-1)'] / computations['N(N-1)'])\n",
    "computations.head()"
   ]
  },
  {
   "cell_type": "code",
   "execution_count": null,
   "id": "01e3f24f",
   "metadata": {},
   "outputs": [],
   "source": [
    "occupation_sdi = computations.copy()\n",
    "occupation_sdi.head()"
   ]
  },
  {
   "cell_type": "code",
   "execution_count": null,
   "id": "1bdd5b11",
   "metadata": {},
   "outputs": [],
   "source": [
    "occupation_sdi.to_csv('occupation_sdi.csv', index=False)"
   ]
  },
  {
   "cell_type": "markdown",
   "id": "f378c836",
   "metadata": {},
   "source": [
    "# Migrations"
   ]
  },
  {
   "cell_type": "code",
   "execution_count": null,
   "id": "ef976242",
   "metadata": {},
   "outputs": [],
   "source": [
    "# importing dataset\n",
    "migration_dataset = pd.read_csv('./data/cleaned/migration_cleaned.csv')\n",
    "migration_dataset.head()"
   ]
  },
  {
   "cell_type": "code",
   "execution_count": null,
   "id": "725bec7d",
   "metadata": {},
   "outputs": [],
   "source": [
    "# dataset columns\n",
    "migration_dataset.columns"
   ]
  },
  {
   "cell_type": "code",
   "execution_count": null,
   "id": "2bd6a1f6",
   "metadata": {},
   "outputs": [],
   "source": [
    "# setting index to multi index \n",
    "migration_dataset = migration_dataset.set_index(['Current state', 'Previous residence'])\n",
    "migration_dataset"
   ]
  },
  {
   "cell_type": "code",
   "execution_count": null,
   "id": "31f8f56a",
   "metadata": {},
   "outputs": [],
   "source": [
    "migration_dataset['n(n-1)'] = migration_dataset['Persons'] * (migration_dataset['Persons'] - 1)\n",
    "migration_dataset.head()"
   ]
  },
  {
   "cell_type": "code",
   "execution_count": null,
   "id": "bc4d39b9",
   "metadata": {},
   "outputs": [],
   "source": [
    "# sum of sum_n(n - 1)\n",
    "computations = pd.DataFrame(migration_dataset['n(n-1)'].groupby(level=0).sum())\n",
    "computations.rename({ \"n(n-1)\": \"sum_n(n-1)\"}, inplace=True, axis=1)\n",
    "computations.head()"
   ]
  },
  {
   "cell_type": "code",
   "execution_count": null,
   "id": "78fa49dc",
   "metadata": {},
   "outputs": [],
   "source": [
    "# Total number of people per state\n",
    "computations['N'] = migration_dataset['Persons'].groupby(level=0).sum()\n",
    "computations.head()"
   ]
  },
  {
   "cell_type": "code",
   "execution_count": null,
   "id": "e817c48b",
   "metadata": {},
   "outputs": [],
   "source": [
    "# Computation of N(N-1)\n",
    "computations['N(-1)'] = computations['N'] * (computations['N'] - 1)\n",
    "computations.head()"
   ]
  },
  {
   "cell_type": "code",
   "execution_count": null,
   "id": "a8796d27",
   "metadata": {},
   "outputs": [],
   "source": [
    "# Calculation of simpson's index for migration\n",
    "computations['SDI'] = 1 - (computations['sum_n(n-1)'] / computations['N(-1)'])\n",
    "computations.head()"
   ]
  },
  {
   "cell_type": "code",
   "execution_count": null,
   "id": "5bcd19bf",
   "metadata": {},
   "outputs": [],
   "source": [
    "migration_sdi = computations.copy()\n",
    "migration_sdi.head()"
   ]
  },
  {
   "cell_type": "code",
   "execution_count": null,
   "id": "7bde8333",
   "metadata": {},
   "outputs": [],
   "source": [
    "migration_sdi.to_csv('migration_sdi.csv')"
   ]
  },
  {
   "cell_type": "markdown",
   "id": "d68cf78c",
   "metadata": {},
   "source": [
    "# Mother tongue diversity "
   ]
  },
  {
   "cell_type": "code",
   "execution_count": null,
   "id": "a9f4b981",
   "metadata": {},
   "outputs": [],
   "source": [
    "# importing dataset\n",
    "mtd_dataset = pd.read_csv('./data/cleaned/mother_tongue_diversity_cleaned.csv')\n",
    "mtd_dataset.head()"
   ]
  },
  {
   "cell_type": "code",
   "execution_count": null,
   "id": "f3c854f5",
   "metadata": {},
   "outputs": [],
   "source": [
    "# dataset columns\n",
    "mtd_dataset.columns"
   ]
  },
  {
   "cell_type": "code",
   "execution_count": null,
   "id": "a1c89dfb",
   "metadata": {},
   "outputs": [],
   "source": [
    "# setting index to multi index \n",
    "mtd_dataset = mtd_dataset.set_index(['Area name', 'Mother tongue name'])\n",
    "mtd_dataset.head()"
   ]
  },
  {
   "cell_type": "code",
   "execution_count": null,
   "id": "befa4d33",
   "metadata": {},
   "outputs": [],
   "source": [
    "mtd_dataset['n(n-1)'] = mtd_dataset['Persons'] * (mtd_dataset['Persons'] - 1)\n",
    "mtd_dataset.head()"
   ]
  },
  {
   "cell_type": "code",
   "execution_count": null,
   "id": "d4438935",
   "metadata": {},
   "outputs": [],
   "source": [
    "# sum of sum_n(n - 1)\n",
    "computations = pd.DataFrame(mtd_dataset['n(n-1)'].groupby(level=0).sum())\n",
    "computations.rename({ \"n(n-1)\": \"sum_n(n-1)\"}, inplace=True, axis=1)\n",
    "computations.head()"
   ]
  },
  {
   "cell_type": "code",
   "execution_count": null,
   "id": "ab0321d6",
   "metadata": {},
   "outputs": [],
   "source": [
    "# Total number of people per state\n",
    "computations['N'] = mtd_dataset['Persons'].groupby(level=0).sum()\n",
    "computations.head()"
   ]
  },
  {
   "cell_type": "code",
   "execution_count": null,
   "id": "7bde3363",
   "metadata": {},
   "outputs": [],
   "source": [
    "# Computation of N(N-1)\n",
    "computations['N(-1)'] = computations['N'] * (computations['N'] - 1)\n",
    "computations.head()"
   ]
  },
  {
   "cell_type": "code",
   "execution_count": null,
   "id": "9e7bc4c6",
   "metadata": {},
   "outputs": [],
   "source": [
    "# Calculation of simpson's index for migration\n",
    "computations['SDI'] = 1 - (computations['sum_n(n-1)'] / computations['N(-1)'])\n",
    "computations.head()"
   ]
  },
  {
   "cell_type": "code",
   "execution_count": null,
   "id": "5bcb16d6",
   "metadata": {},
   "outputs": [],
   "source": [
    "mtd_sdi = computations.copy()\n",
    "mtd_sdi.head()"
   ]
  },
  {
   "cell_type": "code",
   "execution_count": null,
   "id": "9ba968e5",
   "metadata": {},
   "outputs": [],
   "source": [
    "mtd_sdi.to_csv('mother_tongue_diversity_sdi.csv')"
   ]
  },
  {
   "cell_type": "markdown",
   "id": "8c6eac95",
   "metadata": {},
   "source": [
    "# Religion"
   ]
  },
  {
   "cell_type": "code",
   "execution_count": null,
   "id": "81affc17",
   "metadata": {},
   "outputs": [],
   "source": [
    "# importing dataset\n",
    "religion_dataset = pd.read_csv('./data/cleaned/religion_cleaned.csv')\n",
    "religion_dataset.head()"
   ]
  },
  {
   "cell_type": "code",
   "execution_count": null,
   "id": "182e3647",
   "metadata": {},
   "outputs": [],
   "source": [
    "# dataset columns\n",
    "religion_dataset.columns"
   ]
  },
  {
   "cell_type": "code",
   "execution_count": null,
   "id": "01703729",
   "metadata": {},
   "outputs": [],
   "source": [
    "# setting index to multi index \n",
    "religion_dataset = religion_dataset.set_index(['State', 'Religion'])\n",
    "religion_dataset.head()"
   ]
  },
  {
   "cell_type": "code",
   "execution_count": null,
   "id": "733a01d1",
   "metadata": {},
   "outputs": [],
   "source": [
    "religion_dataset['n(n-1)'] = religion_dataset['Persons'] * (religion_dataset['Persons'] - 1)\n",
    "religion_dataset.head()"
   ]
  },
  {
   "cell_type": "code",
   "execution_count": null,
   "id": "5b06def6",
   "metadata": {},
   "outputs": [],
   "source": [
    "# sum of sum_n(n - 1)\n",
    "computations = pd.DataFrame(religion_dataset['n(n-1)'].groupby(level=0).sum())\n",
    "computations.rename({ \"n(n-1)\": \"sum_n(n-1)\"}, inplace=True, axis=1)\n",
    "computations.head()"
   ]
  },
  {
   "cell_type": "code",
   "execution_count": null,
   "id": "a75f0362",
   "metadata": {},
   "outputs": [],
   "source": [
    "# Total number of people per state\n",
    "computations['N'] = religion_dataset['Persons'].groupby(level=0).sum()\n",
    "computations.head()"
   ]
  },
  {
   "cell_type": "code",
   "execution_count": null,
   "id": "33b8dfdc",
   "metadata": {},
   "outputs": [],
   "source": [
    "# Computation of N(N-1)\n",
    "computations['N(-1)'] = computations['N'] * (computations['N'] - 1)\n",
    "computations.head()"
   ]
  },
  {
   "cell_type": "code",
   "execution_count": null,
   "id": "70d0df56",
   "metadata": {},
   "outputs": [],
   "source": [
    "# Calculation of simpson's index for migration\n",
    "computations['SDI'] = 1 - (computations['sum_n(n-1)'] / computations['N(-1)'])\n",
    "computations.head()"
   ]
  },
  {
   "cell_type": "code",
   "execution_count": null,
   "id": "3fdace39",
   "metadata": {},
   "outputs": [],
   "source": [
    "religion_sdi = computations.copy()\n",
    "religion_sdi.head()"
   ]
  },
  {
   "cell_type": "code",
   "execution_count": null,
   "id": "853772ec",
   "metadata": {},
   "outputs": [],
   "source": [
    "religion_sdi.to_csv('religion_sdi.csv')"
   ]
  },
  {
   "cell_type": "code",
   "execution_count": null,
   "id": "7ff1773c",
   "metadata": {},
   "outputs": [],
   "source": [
    "religion_sdi.SDI.isna().value_counts()"
   ]
  },
  {
   "cell_type": "code",
   "execution_count": null,
   "id": "7a27d619",
   "metadata": {},
   "outputs": [],
   "source": []
  }
 ],
 "metadata": {
  "kernelspec": {
   "display_name": "Python 3 (ipykernel)",
   "language": "python",
   "name": "python3"
  },
  "language_info": {
   "codemirror_mode": {
    "name": "ipython",
    "version": 3
   },
   "file_extension": ".py",
   "mimetype": "text/x-python",
   "name": "python",
   "nbconvert_exporter": "python",
   "pygments_lexer": "ipython3",
   "version": "3.9.15"
  }
 },
 "nbformat": 4,
 "nbformat_minor": 5
}
