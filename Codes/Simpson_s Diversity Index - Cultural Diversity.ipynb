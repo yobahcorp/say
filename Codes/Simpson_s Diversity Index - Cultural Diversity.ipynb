{
 "cells": [
  {
   "cell_type": "code",
   "execution_count": 1,
   "id": "801bb1ae",
   "metadata": {},
   "outputs": [],
   "source": [
    "# importing libraries\n",
    "import pandas as pd\n",
    "from sklearn.decomposition import PCA\n",
    "import seaborn as sns\n",
    "import matplotlib.pyplot as plt\n",
    "from sklearn.preprocessing import StandardScaler\n",
    "from sklearn.cluster import KMeans"
   ]
  },
  {
   "cell_type": "code",
   "execution_count": 2,
   "id": "0be60192",
   "metadata": {},
   "outputs": [],
   "source": [
    "# loading data\n",
    "migration_dataset = pd.read_csv(\"./data/SDI/migration_sdi.csv\")\n",
    "mtd_dataset = pd.read_csv(\"./data/SDI/mother_tongue_diversity_sdi.csv\")\n",
    "occupation_dataset = pd.read_csv(\"./data/SDI/occupation_sdi.csv\")\n",
    "religion_dataset = pd.read_csv(\"./data/SDI/religion_sdi.csv\")"
   ]
  },
  {
   "cell_type": "code",
   "execution_count": 3,
   "id": "7cb7fec6",
   "metadata": {},
   "outputs": [],
   "source": [
    "# preserving only state and SDI\n",
    "migration_dataset = migration_dataset[['state', 'migration_SDI']]\n",
    "religion_dataset = religion_dataset[['state', 'religion_SDI']]\n",
    "occupation_dataset = occupation_dataset[['state', 'occupation_SDI']]\n",
    "mtd_dataset = mtd_dataset[['state', 'mtd_SDI']]"
   ]
  },
  {
   "cell_type": "code",
   "execution_count": 4,
   "id": "ee25844e",
   "metadata": {},
   "outputs": [
    {
     "data": {
      "text/plain": [
       "(35, 2)"
      ]
     },
     "execution_count": 4,
     "metadata": {},
     "output_type": "execute_result"
    }
   ],
   "source": [
    "# checking the shape of each dataset\n",
    "migration_dataset.shape"
   ]
  },
  {
   "cell_type": "code",
   "execution_count": 5,
   "id": "cbcdb88d",
   "metadata": {},
   "outputs": [
    {
     "data": {
      "text/plain": [
       "(35, 2)"
      ]
     },
     "execution_count": 5,
     "metadata": {},
     "output_type": "execute_result"
    }
   ],
   "source": [
    "mtd_dataset.shape"
   ]
  },
  {
   "cell_type": "code",
   "execution_count": 6,
   "id": "74f0a6c9",
   "metadata": {},
   "outputs": [
    {
     "data": {
      "text/plain": [
       "(35, 2)"
      ]
     },
     "execution_count": 6,
     "metadata": {},
     "output_type": "execute_result"
    }
   ],
   "source": [
    "occupation_dataset.shape"
   ]
  },
  {
   "cell_type": "code",
   "execution_count": 7,
   "id": "3458ab84",
   "metadata": {},
   "outputs": [
    {
     "data": {
      "text/plain": [
       "(35, 2)"
      ]
     },
     "execution_count": 7,
     "metadata": {},
     "output_type": "execute_result"
    }
   ],
   "source": [
    "religion_dataset.shape"
   ]
  },
  {
   "cell_type": "code",
   "execution_count": 8,
   "id": "c3265121",
   "metadata": {},
   "outputs": [
    {
     "data": {
      "text/html": [
       "<div>\n",
       "<style scoped>\n",
       "    .dataframe tbody tr th:only-of-type {\n",
       "        vertical-align: middle;\n",
       "    }\n",
       "\n",
       "    .dataframe tbody tr th {\n",
       "        vertical-align: top;\n",
       "    }\n",
       "\n",
       "    .dataframe thead th {\n",
       "        text-align: right;\n",
       "    }\n",
       "</style>\n",
       "<table border=\"1\" class=\"dataframe\">\n",
       "  <thead>\n",
       "    <tr style=\"text-align: right;\">\n",
       "      <th></th>\n",
       "      <th>state</th>\n",
       "      <th>occupation_SDI</th>\n",
       "      <th>religion_SDI</th>\n",
       "      <th>mtd_SDI</th>\n",
       "      <th>migration_SDI</th>\n",
       "    </tr>\n",
       "  </thead>\n",
       "  <tbody>\n",
       "    <tr>\n",
       "      <th>0</th>\n",
       "      <td>ANDAMAN &amp; NICOBAR ISLANDS</td>\n",
       "      <td>0.946120</td>\n",
       "      <td>0.461707</td>\n",
       "      <td>0.825498</td>\n",
       "      <td>0.843011</td>\n",
       "    </tr>\n",
       "    <tr>\n",
       "      <th>1</th>\n",
       "      <td>ANDHRA PRADESH</td>\n",
       "      <td>0.945958</td>\n",
       "      <td>0.200286</td>\n",
       "      <td>0.292160</td>\n",
       "      <td>0.844103</td>\n",
       "    </tr>\n",
       "    <tr>\n",
       "      <th>2</th>\n",
       "      <td>ARUNACHAL PRADESH</td>\n",
       "      <td>0.929474</td>\n",
       "      <td>0.646260</td>\n",
       "      <td>0.849312</td>\n",
       "      <td>0.606677</td>\n",
       "    </tr>\n",
       "    <tr>\n",
       "      <th>3</th>\n",
       "      <td>ASSAM</td>\n",
       "      <td>0.929643</td>\n",
       "      <td>0.501187</td>\n",
       "      <td>0.670387</td>\n",
       "      <td>0.873683</td>\n",
       "    </tr>\n",
       "    <tr>\n",
       "      <th>4</th>\n",
       "      <td>BIHAR</td>\n",
       "      <td>0.906204</td>\n",
       "      <td>0.284158</td>\n",
       "      <td>0.375566</td>\n",
       "      <td>0.791525</td>\n",
       "    </tr>\n",
       "  </tbody>\n",
       "</table>\n",
       "</div>"
      ],
      "text/plain": [
       "                       state  occupation_SDI  religion_SDI   mtd_SDI  \\\n",
       "0  ANDAMAN & NICOBAR ISLANDS        0.946120      0.461707  0.825498   \n",
       "1             ANDHRA PRADESH        0.945958      0.200286  0.292160   \n",
       "2          ARUNACHAL PRADESH        0.929474      0.646260  0.849312   \n",
       "3                      ASSAM        0.929643      0.501187  0.670387   \n",
       "4                      BIHAR        0.906204      0.284158  0.375566   \n",
       "\n",
       "   migration_SDI  \n",
       "0       0.843011  \n",
       "1       0.844103  \n",
       "2       0.606677  \n",
       "3       0.873683  \n",
       "4       0.791525  "
      ]
     },
     "execution_count": 8,
     "metadata": {},
     "output_type": "execute_result"
    }
   ],
   "source": [
    "# concatenating all data frames\n",
    "sdi_table = pd.DataFrame()\n",
    "sdi_table['state'] = occupation_dataset['state']\n",
    "sdi_table['occupation_SDI'] = occupation_dataset['occupation_SDI']\n",
    "sdi_table['religion_SDI'] = religion_dataset['religion_SDI']\n",
    "sdi_table['mtd_SDI'] = mtd_dataset['mtd_SDI']\n",
    "sdi_table['migration_SDI'] = migration_dataset['migration_SDI']\n",
    "sdi_table.head()"
   ]
  },
  {
   "cell_type": "code",
   "execution_count": null,
   "id": "8d2237dc",
   "metadata": {},
   "outputs": [],
   "source": [
    "# calculation of cultural diversity = average of other diversities\n",
    "sdi_table['cultural_diversity'] = sdi_table[['occupation_SDI', 'migration_SDI', 'mtd_SDI', 'religion_SDI']].mean(axis=1)\n",
    "sdi_table.head()"
   ]
  },
  {
   "cell_type": "code",
   "execution_count": null,
   "id": "660f307f",
   "metadata": {},
   "outputs": [],
   "source": [
    "sdi_table.to_csv('cultural_diversity_sdi.csv', index=False)"
   ]
  },
  {
   "cell_type": "markdown",
   "id": "9bd973f7",
   "metadata": {},
   "source": [
    "## Clustering states based on diversity indices"
   ]
  },
  {
   "cell_type": "code",
   "execution_count": null,
   "id": "e782b058",
   "metadata": {},
   "outputs": [],
   "source": [
    "# PCA object\n",
    "pca = PCA(n_components=2)"
   ]
  },
  {
   "cell_type": "code",
   "execution_count": null,
   "id": "ffb0eb10",
   "metadata": {},
   "outputs": [],
   "source": [
    "# # Transformation\n",
    "# components = pca.fit_transform(\n",
    "#     StandardScaler().fit_transform(\n",
    "#         sdi_table[['occupation_SDI', 'migration_SDI', 'mtd_SDI', 'religion_SDI']]\n",
    "#     )\n",
    "# )\n",
    "# data = pd.DataFrame(components, columns=['x', 'y'])\n",
    "\n",
    "# Transformation\n",
    "components = pca.fit_transform(\n",
    "    sdi_table[['occupation_SDI', 'migration_SDI', 'mtd_SDI', 'religion_SDI']]\n",
    ")\n",
    "data = pd.DataFrame(components, columns=['x', 'y'])"
   ]
  },
  {
   "cell_type": "code",
   "execution_count": null,
   "id": "fd04dcec",
   "metadata": {},
   "outputs": [],
   "source": [
    "# plotting components\n",
    "plt.figure(figsize=(16, 8))\n",
    "sns.scatterplot(data=data, x='x', y='y')"
   ]
  },
  {
   "cell_type": "code",
   "execution_count": null,
   "id": "1c28f50f",
   "metadata": {},
   "outputs": [],
   "source": [
    "# Finding the optimal cluster\n",
    "initias = []\n",
    "for n in range(1, 11):\n",
    "    c = KMeans(n)\n",
    "    c.fit_transform(components)\n",
    "    initias.append(c.inertia_)\n",
    "    \n",
    "plt.figure(figsize=(16, 8))\n",
    "plt.plot(initias)"
   ]
  },
  {
   "cell_type": "code",
   "execution_count": null,
   "id": "5ef00694",
   "metadata": {},
   "outputs": [],
   "source": [
    "# Clustering based on the above result\n",
    "cluster = KMeans(4)\n",
    "output = cluster.fit_transform(components)\n",
    "data['class'] = cluster.labels_"
   ]
  },
  {
   "cell_type": "code",
   "execution_count": null,
   "id": "b7dcfb22",
   "metadata": {},
   "outputs": [],
   "source": [
    "# Visualizing clusters\n",
    "plt.figure(figsize=(16, 8))\n",
    "sns.scatterplot(data=data, x='x', y='y', hue='class', palette=['red', 'green', 'black', 'yellow'])\n",
    "plt.title(\"Clusterig of states based on their index\")"
   ]
  },
  {
   "cell_type": "code",
   "execution_count": null,
   "id": "9abca6bb",
   "metadata": {},
   "outputs": [],
   "source": [
    "# Visualizing classes on a bar chart\n",
    "temp_data = sdi_table.copy()\n",
    "temp_data['class'] = data['class']\n",
    "temp_data.head()"
   ]
  },
  {
   "cell_type": "code",
   "execution_count": null,
   "id": "def637c0",
   "metadata": {},
   "outputs": [],
   "source": [
    "plt.figure(figsize=(16, 8))\n",
    "plt.xticks(rotation=90)\n",
    "sns.barplot(data=temp_data, x='state', y='cultural_diversity', hue='class')"
   ]
  },
  {
   "cell_type": "markdown",
   "id": "70cf1d60",
   "metadata": {},
   "source": [
    "# Future work - Cultural diversity as a PCA of other diversity indices (dropped for now)"
   ]
  },
  {
   "cell_type": "code",
   "execution_count": null,
   "id": "2a4e9ed2",
   "metadata": {},
   "outputs": [],
   "source": []
  },
  {
   "cell_type": "code",
   "execution_count": null,
   "id": "c208c1d8",
   "metadata": {},
   "outputs": [],
   "source": []
  },
  {
   "cell_type": "code",
   "execution_count": null,
   "id": "64136f87",
   "metadata": {},
   "outputs": [],
   "source": []
  },
  {
   "cell_type": "code",
   "execution_count": null,
   "id": "819b0280",
   "metadata": {},
   "outputs": [],
   "source": []
  },
  {
   "cell_type": "code",
   "execution_count": null,
   "id": "d0a8e320",
   "metadata": {},
   "outputs": [],
   "source": []
  },
  {
   "cell_type": "code",
   "execution_count": null,
   "id": "031607d1",
   "metadata": {},
   "outputs": [],
   "source": []
  },
  {
   "cell_type": "code",
   "execution_count": null,
   "id": "785811f2",
   "metadata": {},
   "outputs": [],
   "source": []
  },
  {
   "cell_type": "code",
   "execution_count": null,
   "id": "f32e9060",
   "metadata": {},
   "outputs": [],
   "source": []
  },
  {
   "cell_type": "code",
   "execution_count": null,
   "id": "9f4e5df4",
   "metadata": {},
   "outputs": [],
   "source": []
  }
 ],
 "metadata": {
  "kernelspec": {
   "display_name": "Python 3 (ipykernel)",
   "language": "python",
   "name": "python3"
  },
  "language_info": {
   "codemirror_mode": {
    "name": "ipython",
    "version": 3
   },
   "file_extension": ".py",
   "mimetype": "text/x-python",
   "name": "python",
   "nbconvert_exporter": "python",
   "pygments_lexer": "ipython3",
   "version": "3.9.15"
  }
 },
 "nbformat": 4,
 "nbformat_minor": 5
}
