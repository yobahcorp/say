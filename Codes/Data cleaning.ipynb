{
 "cells": [
  {
   "cell_type": "code",
   "execution_count": 3,
   "id": "253595b2",
   "metadata": {},
   "outputs": [],
   "source": [
    "# importing required libarries\n",
    "import pandas as pd\n",
    "import numpy as np"
   ]
  },
  {
   "cell_type": "markdown",
   "id": "9cf4b980",
   "metadata": {},
   "source": [
    "# Occupation"
   ]
  },
  {
   "cell_type": "code",
   "execution_count": null,
   "id": "5cb963ff",
   "metadata": {},
   "outputs": [],
   "source": [
    "# loading data\n",
    "occupation_dataset = pd.read_csv(\"./data/occupation.csv\")\n",
    "occupation_dataset.head()"
   ]
  },
  {
   "cell_type": "code",
   "execution_count": null,
   "id": "b91dfbb0",
   "metadata": {},
   "outputs": [],
   "source": [
    "# dataset shape\n",
    "occupation_dataset.shape"
   ]
  },
  {
   "cell_type": "code",
   "execution_count": null,
   "id": "5f5dd6ea",
   "metadata": {},
   "outputs": [],
   "source": [
    "# Selecting only records where Total == Total\n",
    "occupation_dataset = occupation_dataset[occupation_dataset['Total'] == 'Total']\n",
    "\n",
    "# reseting index\n",
    "occupation_dataset.reset_index(drop=True, inplace=True)\n",
    "\n",
    "# glimpse of dataset\n",
    "occupation_dataset.head()"
   ]
  },
  {
   "cell_type": "code",
   "execution_count": null,
   "id": "54cfdb53",
   "metadata": {},
   "outputs": [],
   "source": [
    "# dataset shape\n",
    "occupation_dataset.shape"
   ]
  },
  {
   "cell_type": "code",
   "execution_count": null,
   "id": "6d456aaf",
   "metadata": {},
   "outputs": [],
   "source": [
    "# removing total column as it is constant\n",
    "print(occupation_dataset['Total'].unique())\n",
    "\n",
    "del occupation_dataset['Total']\n",
    "\n",
    "occupation_dataset.head()"
   ]
  },
  {
   "cell_type": "code",
   "execution_count": null,
   "id": "7405fe52",
   "metadata": {},
   "outputs": [],
   "source": [
    "# unique values\n",
    "occupation_dataset.State.unique()"
   ]
  },
  {
   "cell_type": "code",
   "execution_count": null,
   "id": "35d7a818",
   "metadata": {},
   "outputs": [],
   "source": [
    "# Removing 'STATE - ' from state columns\n",
    "# occupation_dataset['State'].str.split(' - ').apply(lambda x: len(x)).unique()\n",
    "occupation_dataset['State'] = occupation_dataset['State'].str.strip().str.split(' - ').apply(lambda array: array[1])\n",
    "occupation_dataset.head()"
   ]
  },
  {
   "cell_type": "code",
   "execution_count": null,
   "id": "b76207be",
   "metadata": {},
   "outputs": [],
   "source": [
    "# Trailing spaces also removed\n",
    "occupation_dataset.State.unique()"
   ]
  },
  {
   "cell_type": "code",
   "execution_count": null,
   "id": "0d62473c",
   "metadata": {},
   "outputs": [],
   "source": [
    "# Removing TOTAL\n",
    "occupation_dataset = occupation_dataset[occupation_dataset['Occupation classification'] != 'TOTAL']\n",
    "occupation_dataset.reset_index(drop=True, inplace=True)\n",
    "occupation_dataset.head()"
   ]
  },
  {
   "cell_type": "code",
   "execution_count": null,
   "id": "5a738eb7",
   "metadata": {},
   "outputs": [],
   "source": [
    "'TOTAL' in occupation_dataset['Occupation classification'].unique()"
   ]
  },
  {
   "cell_type": "code",
   "execution_count": null,
   "id": "c3a17d05",
   "metadata": {},
   "outputs": [],
   "source": [
    "occupation_dataset.to_csv(\"occupation_cleaned.csv\", index=False)"
   ]
  },
  {
   "cell_type": "code",
   "execution_count": null,
   "id": "95f0f68d",
   "metadata": {},
   "outputs": [],
   "source": []
  },
  {
   "cell_type": "markdown",
   "id": "c04d4b6e",
   "metadata": {},
   "source": [
    "# Mother tongue diversity"
   ]
  },
  {
   "cell_type": "code",
   "execution_count": null,
   "id": "e26eb0cf",
   "metadata": {},
   "outputs": [],
   "source": [
    "# loading data: mtd -> mother tongue diversity\n",
    "mtd_dataset = pd.read_csv(\"./data/mother tongue diversity.csv\")\n",
    "mtd_dataset.head()"
   ]
  },
  {
   "cell_type": "code",
   "execution_count": null,
   "id": "f7a1a192",
   "metadata": {},
   "outputs": [],
   "source": [
    "# dataset shape\n",
    "mtd_dataset.shape"
   ]
  },
  {
   "cell_type": "code",
   "execution_count": null,
   "id": "9bfb3919",
   "metadata": {},
   "outputs": [],
   "source": [
    "# Selecting only the main languages... All main languagues are in cap... OTHERS will be removed too\n",
    "languages = mtd_dataset['Mother tongue name'].values\n",
    "\n",
    "mtd_dataset = mtd_dataset[[\n",
    "    str.isupper(language) \\\n",
    "    if \"OTHERS\" not in language \\\n",
    "    else False \\\n",
    "    for language in languages\n",
    "]]\n",
    "\n",
    "mtd_dataset.reset_index(drop=True, inplace=True)\n",
    "mtd_dataset.head()"
   ]
  },
  {
   "cell_type": "code",
   "execution_count": null,
   "id": "0bffb42e",
   "metadata": {},
   "outputs": [],
   "source": [
    "# Removing Numbers from language name\n",
    "mtd_dataset['Mother tongue name'] = mtd_dataset['Mother tongue name'] \\\n",
    ".str.strip().str.split(' ').apply(lambda value: value[1])\n",
    "\n",
    "mtd_dataset.head()"
   ]
  },
  {
   "cell_type": "code",
   "execution_count": null,
   "id": "9c0439a9",
   "metadata": {},
   "outputs": [],
   "source": [
    "# dataset shape\n",
    "mtd_dataset.shape"
   ]
  },
  {
   "cell_type": "code",
   "execution_count": null,
   "id": "c619905b",
   "metadata": {},
   "outputs": [],
   "source": [
    "mtd_dataset['Mother tongue name'].unique()"
   ]
  },
  {
   "cell_type": "code",
   "execution_count": null,
   "id": "c0a02ffd",
   "metadata": {},
   "outputs": [],
   "source": [
    "mtd_dataset.to_csv(\"mother_tongue_diversity_cleaned.csv\", index=False)"
   ]
  },
  {
   "cell_type": "markdown",
   "id": "5693f7d3",
   "metadata": {},
   "source": [
    "# Migration"
   ]
  },
  {
   "cell_type": "code",
   "execution_count": null,
   "id": "4ac95356",
   "metadata": {},
   "outputs": [],
   "source": [
    "# loading dataset\n",
    "migration_dataset = pd.read_csv('./data/migration.csv')\n",
    "migration_dataset.head()"
   ]
  },
  {
   "cell_type": "code",
   "execution_count": null,
   "id": "092c3d6c",
   "metadata": {},
   "outputs": [],
   "source": [
    "# dataset shape\n",
    "migration_dataset.head()"
   ]
  },
  {
   "cell_type": "code",
   "execution_count": null,
   "id": "23606308",
   "metadata": {},
   "outputs": [],
   "source": [
    "# dataset fields\n",
    "migration_dataset.columns"
   ]
  },
  {
   "cell_type": "code",
   "execution_count": null,
   "id": "19fedfb4",
   "metadata": {},
   "outputs": [],
   "source": [
    "# dataset shape\n",
    "migration_dataset.shape"
   ]
  },
  {
   "cell_type": "code",
   "execution_count": null,
   "id": "2a23f36c",
   "metadata": {},
   "outputs": [],
   "source": [
    "# selecting records where previous residence or current residence are neither rural nor urban\n",
    "migration_dataset = migration_dataset[\n",
    "    ~((migration_dataset['Previous residence (total)'].isin(('Rural', 'Urban'))) | \\\n",
    "      (migration_dataset['Current state (total)'].isin(('Rural', 'Urban'))))\n",
    "]\n",
    "\n",
    "migration_dataset.head()"
   ]
  },
  {
   "cell_type": "code",
   "execution_count": null,
   "id": "89879318",
   "metadata": {},
   "outputs": [],
   "source": [
    "# dataset shape\n",
    "migration_dataset.shape"
   ]
  },
  {
   "cell_type": "code",
   "execution_count": null,
   "id": "f6a44834",
   "metadata": {},
   "outputs": [],
   "source": [
    "migration_dataset['Previous residence (total)'].unique()"
   ]
  },
  {
   "cell_type": "code",
   "execution_count": null,
   "id": "19029df6",
   "metadata": {},
   "outputs": [],
   "source": [
    "migration_dataset['Current state (total)'].unique()"
   ]
  },
  {
   "cell_type": "code",
   "execution_count": null,
   "id": "bae9ae83",
   "metadata": {},
   "outputs": [],
   "source": [
    "# unique previous residences\n",
    "migration_dataset['Previous residence'].unique()"
   ]
  },
  {
   "cell_type": "code",
   "execution_count": null,
   "id": "3c61d318",
   "metadata": {},
   "outputs": [],
   "source": [
    "# Previous residence categories to be removed\n",
    "categories_to_be_removed = [\n",
    "    'Total', 'Last residence within India',\n",
    "    'Within the state of enumeration but outside the place of enumeration',\n",
    "    'Elsewhere in the district of enumeration',\n",
    "    'In other districts of the state of enumeration',\n",
    "    'States in India beyond the state of enumeration'\n",
    "]\n",
    "\n",
    "migration_dataset = migration_dataset[\n",
    "    ~(migration_dataset['Previous residence'].isin(categories_to_be_removed))\n",
    "]\n",
    "migration_dataset.head()"
   ]
  },
  {
   "cell_type": "code",
   "execution_count": null,
   "id": "aa535b0e",
   "metadata": {},
   "outputs": [],
   "source": [
    "# dataset shape\n",
    "migration_dataset.shape"
   ]
  },
  {
   "cell_type": "code",
   "execution_count": null,
   "id": "338e0140",
   "metadata": {},
   "outputs": [],
   "source": [
    "# unique previous residences\n",
    "migration_dataset['Previous residence'].unique()"
   ]
  },
  {
   "cell_type": "code",
   "execution_count": null,
   "id": "f2cc6324",
   "metadata": {},
   "outputs": [],
   "source": [
    "# Moving country names from Previous residence (total) to Previous residence\n",
    "def replace_with_country_name(row):\n",
    "    \n",
    "    # Total is the normal value in Previous residence (total). Anything other than total\n",
    "    # will be moved used to replace the value of Previous residence in the same record \n",
    "    prev_residence_total = row['Previous residence (total)']\n",
    "    \n",
    "    if prev_residence_total != 'Total':\n",
    "        temp_row = row.copy()\n",
    "        temp_row['Previous residence'] = prev_residence_total\n",
    "        return temp_row\n",
    "    return row\n",
    "\n",
    "migration_dataset = migration_dataset.apply(replace_with_country_name, axis=1)\n",
    "migration_dataset.head()"
   ]
  },
  {
   "cell_type": "code",
   "execution_count": null,
   "id": "998abc61",
   "metadata": {},
   "outputs": [],
   "source": [
    "# unique previous residences\n",
    "migration_dataset['Previous residence'].unique()"
   ]
  },
  {
   "cell_type": "code",
   "execution_count": null,
   "id": "47360351",
   "metadata": {},
   "outputs": [],
   "source": [
    "# Previous residence categories to be removed\n",
    "categories2_to_be_removed = [\n",
    "    'Last residence outside India',\n",
    "    'Countries in Asia beyond India',\n",
    "    'Countries in Africa',\n",
    "    'Countries in the Americas',\n",
    "    'Countries in Oceania',\n",
    "    'Unclassifiable',\n",
    "    'Elsewhere'\n",
    "]\n",
    "\n",
    "migration_dataset = migration_dataset[\n",
    "    ~(migration_dataset['Previous residence'].isin(categories2_to_be_removed))\n",
    "]\n",
    "migration_dataset.head()"
   ]
  },
  {
   "cell_type": "code",
   "execution_count": null,
   "id": "de327f51",
   "metadata": {},
   "outputs": [],
   "source": [
    "# dataset shape\n",
    "migration_dataset.shape"
   ]
  },
  {
   "cell_type": "code",
   "execution_count": null,
   "id": "f85d1068",
   "metadata": {},
   "outputs": [],
   "source": [
    "# unique previous residences\n",
    "migration_dataset['Previous residence'].unique()"
   ]
  },
  {
   "cell_type": "code",
   "execution_count": null,
   "id": "f3dfd7f9",
   "metadata": {},
   "outputs": [],
   "source": [
    "# Removing 'State - ' from state columns\n",
    "# occupation_dataset['State'].str.split(' - ').apply(lambda x: len(x)).unique()\n",
    "migration_dataset['Current state'] = migration_dataset['Current state'].str.strip().str.split(' - ').apply(lambda array: array[1])\n",
    "migration_dataset.head()"
   ]
  },
  {
   "cell_type": "code",
   "execution_count": null,
   "id": "9ccb648b",
   "metadata": {},
   "outputs": [],
   "source": [
    "# Removing ' (' from state columns\n",
    "# occupation_dataset['State'].str.split(' - ').apply(lambda x: len(x)).unique()\n",
    "migration_dataset['Current state'] = migration_dataset['Current state'].str.strip().str.split(' \\(').apply(lambda array: array[0])\n",
    "migration_dataset.head()"
   ]
  },
  {
   "cell_type": "code",
   "execution_count": null,
   "id": "8e7ac64d",
   "metadata": {},
   "outputs": [],
   "source": [
    "migration_dataset['Current state'].unique()"
   ]
  },
  {
   "cell_type": "code",
   "execution_count": null,
   "id": "1823a765",
   "metadata": {},
   "outputs": [],
   "source": [
    "# Removing comma from Persons and converting it to integer\n",
    "migration_dataset['Persons'] = migration_dataset['Persons'].str.replace(\",\", \"\").astype(\"int\")\n",
    "migration_dataset.head()"
   ]
  },
  {
   "cell_type": "code",
   "execution_count": null,
   "id": "859ab605",
   "metadata": {},
   "outputs": [],
   "source": [
    "# removing Previous residence (total) and Current state (total)\n",
    "del migration_dataset['Previous residence (total)']\n",
    "del migration_dataset['Current state (total)']\n",
    "migration_dataset.head()"
   ]
  },
  {
   "cell_type": "code",
   "execution_count": null,
   "id": "16440a23",
   "metadata": {},
   "outputs": [],
   "source": [
    "migration_dataset.to_csv(\"migration_cleaned.csv\", index=False)"
   ]
  },
  {
   "cell_type": "markdown",
   "id": "3fecb361",
   "metadata": {},
   "source": [
    "# Multilingualism"
   ]
  },
  {
   "cell_type": "code",
   "execution_count": null,
   "id": "594c02f8",
   "metadata": {},
   "outputs": [],
   "source": [
    "# loading dataset\n",
    "multi_lingual_dataset = pd.read_csv(\n",
    "    \"./data/multilingualism.csv\",\n",
    ")\n",
    "multi_lingual_dataset.head()"
   ]
  },
  {
   "cell_type": "code",
   "execution_count": null,
   "id": "f92528db",
   "metadata": {},
   "outputs": [],
   "source": [
    "# dataset shape\n",
    "multi_lingual_dataset.shape"
   ]
  },
  {
   "cell_type": "code",
   "execution_count": null,
   "id": "8d547da4",
   "metadata": {},
   "outputs": [],
   "source": [
    "# replacing all nan's with the previous language\n",
    "\n",
    "for col in ['Mother tongue', 'mPersons', 'Second language', 'sPersons']:\n",
    "    new_values = []\n",
    "    for language in multi_lingual_dataset[col].values:\n",
    "        if str(language) != 'nan':\n",
    "            current_language = language\n",
    "\n",
    "        new_values.append(str(current_language).strip())\n",
    "    \n",
    "    multi_lingual_dataset[col] = new_values\n",
    "\n",
    "multi_lingual_dataset.head()"
   ]
  },
  {
   "cell_type": "code",
   "execution_count": null,
   "id": "8556f820",
   "metadata": {},
   "outputs": [],
   "source": [
    "# setting multi index\n",
    "multi_lingual_dataset = multi_lingual_dataset.set_index(['Mother tongue', 'Second language'])\n",
    "multi_lingual_dataset"
   ]
  },
  {
   "cell_type": "code",
   "execution_count": null,
   "id": "e0aa6179",
   "metadata": {},
   "outputs": [],
   "source": [
    "# Deleting OTHERS\n",
    "multi_lingual_dataset = multi_lingual_dataset.drop('OTHERS', level=0)\n",
    "multi_lingual_dataset = multi_lingual_dataset.drop('OTHERS', level=1)\n",
    "multi_lingual_dataset"
   ]
  },
  {
   "cell_type": "code",
   "execution_count": null,
   "id": "5271d21a",
   "metadata": {},
   "outputs": [],
   "source": [
    "multi_lingual_dataset = multi_lingual_dataset[multi_lingual_dataset['Third language'] != 'OTHERS']\n",
    "multi_lingual_dataset"
   ]
  },
  {
   "cell_type": "code",
   "execution_count": null,
   "id": "468bae6a",
   "metadata": {},
   "outputs": [],
   "source": [
    "multi_lingual_dataset['Third language'].isna().value_counts()"
   ]
  },
  {
   "cell_type": "code",
   "execution_count": null,
   "id": "4011bf29",
   "metadata": {},
   "outputs": [],
   "source": [
    "multi_lingual_dataset.dropna(inplace=True)"
   ]
  },
  {
   "cell_type": "code",
   "execution_count": null,
   "id": "a6e6d1f3",
   "metadata": {},
   "outputs": [],
   "source": [
    "multi_lingual_dataset['Third language'].isna().value_counts()"
   ]
  },
  {
   "cell_type": "code",
   "execution_count": null,
   "id": "6cf5ac40",
   "metadata": {},
   "outputs": [],
   "source": [
    "multi_lingual_dataset.to_csv(\"multilingualism_cleaned.csv\")"
   ]
  },
  {
   "cell_type": "code",
   "execution_count": null,
   "id": "0509a573",
   "metadata": {},
   "outputs": [],
   "source": [
    "!open ."
   ]
  },
  {
   "cell_type": "markdown",
   "id": "01fcc1eb",
   "metadata": {},
   "source": [
    "# Religion"
   ]
  },
  {
   "cell_type": "code",
   "execution_count": null,
   "id": "df19dbe3",
   "metadata": {},
   "outputs": [],
   "source": [
    "# loading dataset\n",
    "religion_dataset = pd.read_csv('./data/religion.csv')\n",
    "religion_dataset.head()"
   ]
  },
  {
   "cell_type": "code",
   "execution_count": null,
   "id": "52bf697d",
   "metadata": {},
   "outputs": [],
   "source": [
    "# dataset shape\n",
    "religion_dataset.shape"
   ]
  },
  {
   "cell_type": "code",
   "execution_count": null,
   "id": "2a035560",
   "metadata": {},
   "outputs": [],
   "source": [
    "# droping 'All religious communities'\n",
    "religion_dataset = religion_dataset[religion_dataset['Religious Community'] != 'All Religious Communities']\n",
    "religion_dataset.head()"
   ]
  },
  {
   "cell_type": "code",
   "execution_count": null,
   "id": "86a228f6",
   "metadata": {},
   "outputs": [],
   "source": [
    "# dataset shape\n",
    "religion_dataset.shape"
   ]
  },
  {
   "cell_type": "code",
   "execution_count": null,
   "id": "4443cb2a",
   "metadata": {},
   "outputs": [],
   "source": [
    "# Selecting all values where Total == Total\n",
    "religion_dataset = religion_dataset[religion_dataset['Total'] == 'Total']\n",
    "religion_dataset.head()"
   ]
  },
  {
   "cell_type": "code",
   "execution_count": null,
   "id": "c49c19d4",
   "metadata": {},
   "outputs": [],
   "source": [
    "# dataset shape\n",
    "religion_dataset.shape"
   ]
  },
  {
   "cell_type": "code",
   "execution_count": null,
   "id": "7c86c82b",
   "metadata": {},
   "outputs": [],
   "source": [
    "# Religious codes will for manjour religions are one digits\n",
    "religion_codes = religion_dataset['Religion Code'].unique()\n",
    "religion_codes.sort()\n",
    "religion_codes"
   ]
  },
  {
   "cell_type": "code",
   "execution_count": null,
   "id": "4606585f",
   "metadata": {},
   "outputs": [],
   "source": [
    "# Selecting only major religions\n",
    "religion_dataset = religion_dataset[religion_dataset['Religion Code'].isin(range(1, 7))]\n",
    "religion_dataset.head()"
   ]
  },
  {
   "cell_type": "code",
   "execution_count": null,
   "id": "3506d418",
   "metadata": {},
   "outputs": [],
   "source": [
    "# dataset shape\n",
    "religion_dataset.shape"
   ]
  },
  {
   "cell_type": "code",
   "execution_count": null,
   "id": "be8f988e",
   "metadata": {
    "scrolled": true
   },
   "outputs": [],
   "source": [
    "# removing Total and Religion Code columns\n",
    "del religion_dataset['Total']\n",
    "del religion_dataset['Religion Code']\n",
    "religion_dataset.head()"
   ]
  },
  {
   "cell_type": "code",
   "execution_count": null,
   "id": "5ba0fc0d",
   "metadata": {},
   "outputs": [],
   "source": [
    "# Changing delhi to nct\n",
    "religion_dataset['State'].replace(\"DELHI\", \"NCT OF DELHI\", inplace=True)"
   ]
  },
  {
   "cell_type": "code",
   "execution_count": null,
   "id": "aec35c21",
   "metadata": {},
   "outputs": [],
   "source": [
    "religion_dataset['state'] = religion_dataset['State']"
   ]
  },
  {
   "cell_type": "code",
   "execution_count": null,
   "id": "83af52ff",
   "metadata": {},
   "outputs": [],
   "source": [
    "religion_dataset['Religious Community'].unique()"
   ]
  },
  {
   "cell_type": "markdown",
   "id": "46f0238d",
   "metadata": {},
   "source": [
    "# Religion - 2011"
   ]
  },
  {
   "cell_type": "code",
   "execution_count": 4,
   "id": "0217aa24",
   "metadata": {},
   "outputs": [
    {
     "data": {
      "text/html": [
       "<div>\n",
       "<style scoped>\n",
       "    .dataframe tbody tr th:only-of-type {\n",
       "        vertical-align: middle;\n",
       "    }\n",
       "\n",
       "    .dataframe tbody tr th {\n",
       "        vertical-align: top;\n",
       "    }\n",
       "\n",
       "    .dataframe thead th {\n",
       "        text-align: right;\n",
       "    }\n",
       "</style>\n",
       "<table border=\"1\" class=\"dataframe\">\n",
       "  <thead>\n",
       "    <tr style=\"text-align: right;\">\n",
       "      <th></th>\n",
       "      <th>State</th>\n",
       "      <th>Religion</th>\n",
       "      <th>Total</th>\n",
       "      <th>Persons</th>\n",
       "    </tr>\n",
       "  </thead>\n",
       "  <tbody>\n",
       "    <tr>\n",
       "      <th>0</th>\n",
       "      <td>NaN</td>\n",
       "      <td>NaN</td>\n",
       "      <td>NaN</td>\n",
       "      <td>NaN</td>\n",
       "    </tr>\n",
       "    <tr>\n",
       "      <th>1</th>\n",
       "      <td>State - JAMMU &amp; KASHMIR</td>\n",
       "      <td>All Religious Community:</td>\n",
       "      <td>Total</td>\n",
       "      <td>12541302.0</td>\n",
       "    </tr>\n",
       "    <tr>\n",
       "      <th>2</th>\n",
       "      <td>State - JAMMU &amp; KASHMIR</td>\n",
       "      <td>All Religious Community:</td>\n",
       "      <td>Rural</td>\n",
       "      <td>9108060.0</td>\n",
       "    </tr>\n",
       "    <tr>\n",
       "      <th>3</th>\n",
       "      <td>State - JAMMU &amp; KASHMIR</td>\n",
       "      <td>All Religious Community:</td>\n",
       "      <td>Urban</td>\n",
       "      <td>3433242.0</td>\n",
       "    </tr>\n",
       "    <tr>\n",
       "      <th>4</th>\n",
       "      <td>State - JAMMU &amp; KASHMIR</td>\n",
       "      <td>Religion:Hindu</td>\n",
       "      <td>Total</td>\n",
       "      <td>3566674.0</td>\n",
       "    </tr>\n",
       "  </tbody>\n",
       "</table>\n",
       "</div>"
      ],
      "text/plain": [
       "                     State                  Religion  Total     Persons\n",
       "0                      NaN                       NaN    NaN         NaN\n",
       "1  State - JAMMU & KASHMIR  All Religious Community:  Total  12541302.0\n",
       "2  State - JAMMU & KASHMIR  All Religious Community:  Rural   9108060.0\n",
       "3  State - JAMMU & KASHMIR  All Religious Community:  Urban   3433242.0\n",
       "4  State - JAMMU & KASHMIR            Religion:Hindu  Total   3566674.0"
      ]
     },
     "execution_count": 4,
     "metadata": {},
     "output_type": "execute_result"
    }
   ],
   "source": [
    "# loading data\n",
    "religion = pd.read_csv('./data/religion.csv')\n",
    "religion.head()"
   ]
  },
  {
   "cell_type": "code",
   "execution_count": 5,
   "id": "b57db5fd",
   "metadata": {},
   "outputs": [
    {
     "data": {
      "text/plain": [
       "(2911, 4)"
      ]
     },
     "execution_count": 5,
     "metadata": {},
     "output_type": "execute_result"
    }
   ],
   "source": [
    "# dataset shape\n",
    "religion.shape"
   ]
  },
  {
   "cell_type": "code",
   "execution_count": 6,
   "id": "4563f918",
   "metadata": {},
   "outputs": [
    {
     "data": {
      "text/html": [
       "<div>\n",
       "<style scoped>\n",
       "    .dataframe tbody tr th:only-of-type {\n",
       "        vertical-align: middle;\n",
       "    }\n",
       "\n",
       "    .dataframe tbody tr th {\n",
       "        vertical-align: top;\n",
       "    }\n",
       "\n",
       "    .dataframe thead th {\n",
       "        text-align: right;\n",
       "    }\n",
       "</style>\n",
       "<table border=\"1\" class=\"dataframe\">\n",
       "  <thead>\n",
       "    <tr style=\"text-align: right;\">\n",
       "      <th></th>\n",
       "      <th>State</th>\n",
       "      <th>Religion</th>\n",
       "      <th>Total</th>\n",
       "      <th>Persons</th>\n",
       "    </tr>\n",
       "  </thead>\n",
       "  <tbody>\n",
       "    <tr>\n",
       "      <th>0</th>\n",
       "      <td>NaN</td>\n",
       "      <td>NaN</td>\n",
       "      <td>NaN</td>\n",
       "      <td>NaN</td>\n",
       "    </tr>\n",
       "    <tr>\n",
       "      <th>4</th>\n",
       "      <td>State - JAMMU &amp; KASHMIR</td>\n",
       "      <td>Religion:Hindu</td>\n",
       "      <td>Total</td>\n",
       "      <td>3566674.0</td>\n",
       "    </tr>\n",
       "    <tr>\n",
       "      <th>5</th>\n",
       "      <td>State - JAMMU &amp; KASHMIR</td>\n",
       "      <td>Religion:Hindu</td>\n",
       "      <td>Rural</td>\n",
       "      <td>2516370.0</td>\n",
       "    </tr>\n",
       "    <tr>\n",
       "      <th>6</th>\n",
       "      <td>State - JAMMU &amp; KASHMIR</td>\n",
       "      <td>Religion:Hindu</td>\n",
       "      <td>Urban</td>\n",
       "      <td>1050304.0</td>\n",
       "    </tr>\n",
       "    <tr>\n",
       "      <th>7</th>\n",
       "      <td>State - JAMMU &amp; KASHMIR</td>\n",
       "      <td>Sect:Hindu</td>\n",
       "      <td>Total</td>\n",
       "      <td>3566520.0</td>\n",
       "    </tr>\n",
       "  </tbody>\n",
       "</table>\n",
       "</div>"
      ],
      "text/plain": [
       "                     State        Religion  Total    Persons\n",
       "0                      NaN             NaN    NaN        NaN\n",
       "4  State - JAMMU & KASHMIR  Religion:Hindu  Total  3566674.0\n",
       "5  State - JAMMU & KASHMIR  Religion:Hindu  Rural  2516370.0\n",
       "6  State - JAMMU & KASHMIR  Religion:Hindu  Urban  1050304.0\n",
       "7  State - JAMMU & KASHMIR      Sect:Hindu  Total  3566520.0"
      ]
     },
     "execution_count": 6,
     "metadata": {},
     "output_type": "execute_result"
    }
   ],
   "source": [
    "# droping 'All religious communities'\n",
    "religion = religion[religion['Religion'] != 'All Religious Community:']\n",
    "religion.head()"
   ]
  },
  {
   "cell_type": "code",
   "execution_count": 7,
   "id": "27c0ca6a",
   "metadata": {},
   "outputs": [
    {
     "data": {
      "text/plain": [
       "(2806, 4)"
      ]
     },
     "execution_count": 7,
     "metadata": {},
     "output_type": "execute_result"
    }
   ],
   "source": [
    "# dataset shape\n",
    "religion.shape"
   ]
  },
  {
   "cell_type": "code",
   "execution_count": 8,
   "id": "c9ac9543",
   "metadata": {},
   "outputs": [
    {
     "data": {
      "text/html": [
       "<div>\n",
       "<style scoped>\n",
       "    .dataframe tbody tr th:only-of-type {\n",
       "        vertical-align: middle;\n",
       "    }\n",
       "\n",
       "    .dataframe tbody tr th {\n",
       "        vertical-align: top;\n",
       "    }\n",
       "\n",
       "    .dataframe thead th {\n",
       "        text-align: right;\n",
       "    }\n",
       "</style>\n",
       "<table border=\"1\" class=\"dataframe\">\n",
       "  <thead>\n",
       "    <tr style=\"text-align: right;\">\n",
       "      <th></th>\n",
       "      <th>State</th>\n",
       "      <th>Religion</th>\n",
       "      <th>Total</th>\n",
       "      <th>Persons</th>\n",
       "    </tr>\n",
       "  </thead>\n",
       "  <tbody>\n",
       "    <tr>\n",
       "      <th>4</th>\n",
       "      <td>State - JAMMU &amp; KASHMIR</td>\n",
       "      <td>Religion:Hindu</td>\n",
       "      <td>Total</td>\n",
       "      <td>3566674.0</td>\n",
       "    </tr>\n",
       "    <tr>\n",
       "      <th>7</th>\n",
       "      <td>State - JAMMU &amp; KASHMIR</td>\n",
       "      <td>Sect:Hindu</td>\n",
       "      <td>Total</td>\n",
       "      <td>3566520.0</td>\n",
       "    </tr>\n",
       "    <tr>\n",
       "      <th>10</th>\n",
       "      <td>State - JAMMU &amp; KASHMIR</td>\n",
       "      <td>Sect:Bairagi</td>\n",
       "      <td>Total</td>\n",
       "      <td>1.0</td>\n",
       "    </tr>\n",
       "    <tr>\n",
       "      <th>13</th>\n",
       "      <td>State - JAMMU &amp; KASHMIR</td>\n",
       "      <td>Sect:Balmiki / Walmiki / Valmiki</td>\n",
       "      <td>Total</td>\n",
       "      <td>41.0</td>\n",
       "    </tr>\n",
       "    <tr>\n",
       "      <th>16</th>\n",
       "      <td>State - JAMMU &amp; KASHMIR</td>\n",
       "      <td>Sect:Kabir Panthi</td>\n",
       "      <td>Total</td>\n",
       "      <td>104.0</td>\n",
       "    </tr>\n",
       "  </tbody>\n",
       "</table>\n",
       "</div>"
      ],
      "text/plain": [
       "                      State                          Religion  Total  \\\n",
       "4   State - JAMMU & KASHMIR                    Religion:Hindu  Total   \n",
       "7   State - JAMMU & KASHMIR                        Sect:Hindu  Total   \n",
       "10  State - JAMMU & KASHMIR                      Sect:Bairagi  Total   \n",
       "13  State - JAMMU & KASHMIR  Sect:Balmiki / Walmiki / Valmiki  Total   \n",
       "16  State - JAMMU & KASHMIR                 Sect:Kabir Panthi  Total   \n",
       "\n",
       "      Persons  \n",
       "4   3566674.0  \n",
       "7   3566520.0  \n",
       "10        1.0  \n",
       "13       41.0  \n",
       "16      104.0  "
      ]
     },
     "execution_count": 8,
     "metadata": {},
     "output_type": "execute_result"
    }
   ],
   "source": [
    "# Selecting all values where Total == Total\n",
    "religion = religion[religion['Total'] == 'Total']\n",
    "religion.head()"
   ]
  },
  {
   "cell_type": "code",
   "execution_count": 9,
   "id": "1582a382",
   "metadata": {},
   "outputs": [
    {
     "data": {
      "text/html": [
       "<div>\n",
       "<style scoped>\n",
       "    .dataframe tbody tr th:only-of-type {\n",
       "        vertical-align: middle;\n",
       "    }\n",
       "\n",
       "    .dataframe tbody tr th {\n",
       "        vertical-align: top;\n",
       "    }\n",
       "\n",
       "    .dataframe thead th {\n",
       "        text-align: right;\n",
       "    }\n",
       "</style>\n",
       "<table border=\"1\" class=\"dataframe\">\n",
       "  <thead>\n",
       "    <tr style=\"text-align: right;\">\n",
       "      <th></th>\n",
       "      <th>State</th>\n",
       "      <th>Religion</th>\n",
       "      <th>Total</th>\n",
       "      <th>Persons</th>\n",
       "    </tr>\n",
       "  </thead>\n",
       "  <tbody>\n",
       "    <tr>\n",
       "      <th>4</th>\n",
       "      <td>JAMMU &amp; KASHMIR</td>\n",
       "      <td>Hindu</td>\n",
       "      <td>Total</td>\n",
       "      <td>3566674.0</td>\n",
       "    </tr>\n",
       "    <tr>\n",
       "      <th>22</th>\n",
       "      <td>JAMMU &amp; KASHMIR</td>\n",
       "      <td>Islam/Muslim</td>\n",
       "      <td>Total</td>\n",
       "      <td>8567485.0</td>\n",
       "    </tr>\n",
       "    <tr>\n",
       "      <th>34</th>\n",
       "      <td>JAMMU &amp; KASHMIR</td>\n",
       "      <td>Christian</td>\n",
       "      <td>Total</td>\n",
       "      <td>35631.0</td>\n",
       "    </tr>\n",
       "    <tr>\n",
       "      <th>43</th>\n",
       "      <td>JAMMU &amp; KASHMIR</td>\n",
       "      <td>Sikh</td>\n",
       "      <td>Total</td>\n",
       "      <td>234848.0</td>\n",
       "    </tr>\n",
       "    <tr>\n",
       "      <th>49</th>\n",
       "      <td>JAMMU &amp; KASHMIR</td>\n",
       "      <td>Buddhist</td>\n",
       "      <td>Total</td>\n",
       "      <td>112584.0</td>\n",
       "    </tr>\n",
       "  </tbody>\n",
       "</table>\n",
       "</div>"
      ],
      "text/plain": [
       "              State      Religion  Total    Persons\n",
       "4   JAMMU & KASHMIR         Hindu  Total  3566674.0\n",
       "22  JAMMU & KASHMIR  Islam/Muslim  Total  8567485.0\n",
       "34  JAMMU & KASHMIR     Christian  Total    35631.0\n",
       "43  JAMMU & KASHMIR          Sikh  Total   234848.0\n",
       "49  JAMMU & KASHMIR      Buddhist  Total   112584.0"
      ]
     },
     "execution_count": 9,
     "metadata": {},
     "output_type": "execute_result"
    }
   ],
   "source": [
    "# Filtering all main religions\n",
    "religion = religion[religion['Religion'].str.contains('Religion:')]\n",
    "religion['Religion'] = religion['Religion'].str.split('Religion:').apply(lambda array: array[1])\n",
    "religion['State'] = religion['State'].str.strip().str.split('State - ').apply(lambda array: array[1])\n",
    "religion.head()"
   ]
  },
  {
   "cell_type": "code",
   "execution_count": 10,
   "id": "6375ce06",
   "metadata": {},
   "outputs": [],
   "source": [
    "del religion['Total']"
   ]
  },
  {
   "cell_type": "code",
   "execution_count": 11,
   "id": "d835cd87",
   "metadata": {},
   "outputs": [
    {
     "data": {
      "text/html": [
       "<div>\n",
       "<style scoped>\n",
       "    .dataframe tbody tr th:only-of-type {\n",
       "        vertical-align: middle;\n",
       "    }\n",
       "\n",
       "    .dataframe tbody tr th {\n",
       "        vertical-align: top;\n",
       "    }\n",
       "\n",
       "    .dataframe thead th {\n",
       "        text-align: right;\n",
       "    }\n",
       "</style>\n",
       "<table border=\"1\" class=\"dataframe\">\n",
       "  <thead>\n",
       "    <tr style=\"text-align: right;\">\n",
       "      <th></th>\n",
       "      <th>State</th>\n",
       "      <th>Religion</th>\n",
       "      <th>Persons</th>\n",
       "    </tr>\n",
       "  </thead>\n",
       "  <tbody>\n",
       "    <tr>\n",
       "      <th>4</th>\n",
       "      <td>JAMMU &amp; KASHMIR</td>\n",
       "      <td>Hindu</td>\n",
       "      <td>3566674.0</td>\n",
       "    </tr>\n",
       "    <tr>\n",
       "      <th>22</th>\n",
       "      <td>JAMMU &amp; KASHMIR</td>\n",
       "      <td>Islam/Muslim</td>\n",
       "      <td>8567485.0</td>\n",
       "    </tr>\n",
       "    <tr>\n",
       "      <th>34</th>\n",
       "      <td>JAMMU &amp; KASHMIR</td>\n",
       "      <td>Christian</td>\n",
       "      <td>35631.0</td>\n",
       "    </tr>\n",
       "    <tr>\n",
       "      <th>43</th>\n",
       "      <td>JAMMU &amp; KASHMIR</td>\n",
       "      <td>Sikh</td>\n",
       "      <td>234848.0</td>\n",
       "    </tr>\n",
       "    <tr>\n",
       "      <th>49</th>\n",
       "      <td>JAMMU &amp; KASHMIR</td>\n",
       "      <td>Buddhist</td>\n",
       "      <td>112584.0</td>\n",
       "    </tr>\n",
       "  </tbody>\n",
       "</table>\n",
       "</div>"
      ],
      "text/plain": [
       "              State      Religion    Persons\n",
       "4   JAMMU & KASHMIR         Hindu  3566674.0\n",
       "22  JAMMU & KASHMIR  Islam/Muslim  8567485.0\n",
       "34  JAMMU & KASHMIR     Christian    35631.0\n",
       "43  JAMMU & KASHMIR          Sikh   234848.0\n",
       "49  JAMMU & KASHMIR      Buddhist   112584.0"
      ]
     },
     "execution_count": 11,
     "metadata": {},
     "output_type": "execute_result"
    }
   ],
   "source": [
    "religion.head()"
   ]
  },
  {
   "cell_type": "code",
   "execution_count": 14,
   "id": "81b3b799",
   "metadata": {},
   "outputs": [],
   "source": [
    "religion.to_csv('religion_cleaned.csv', index=False)"
   ]
  },
  {
   "cell_type": "code",
   "execution_count": null,
   "id": "5e9fdd83",
   "metadata": {},
   "outputs": [],
   "source": []
  }
 ],
 "metadata": {
  "kernelspec": {
   "display_name": "Python 3 (ipykernel)",
   "language": "python",
   "name": "python3"
  },
  "language_info": {
   "codemirror_mode": {
    "name": "ipython",
    "version": 3
   },
   "file_extension": ".py",
   "mimetype": "text/x-python",
   "name": "python",
   "nbconvert_exporter": "python",
   "pygments_lexer": "ipython3",
   "version": "3.9.15"
  }
 },
 "nbformat": 4,
 "nbformat_minor": 5
}
